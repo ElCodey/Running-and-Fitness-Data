{
 "cells": [
  {
   "cell_type": "markdown",
   "metadata": {},
   "source": [
    "# My Fitness Data\n",
    "\n",
    "This is an exploration of my fitness data from the 30th November 2020. Looking into how much I cycled, ran and walked over the 15 week period. The running exploration notebook looked at marathon times and training. I wanted to get an idea of where I am at currently and how much training would be needed for a sub 3 hour marathon.\n",
    "\n",
    "I will use Logistic Regression and Bayes to train and predict the categories."
   ]
  },
  {
   "cell_type": "code",
   "execution_count": 127,
   "metadata": {},
   "outputs": [],
   "source": [
    "import pandas as pd\n",
    "import numpy as np\n",
    "import matplotlib.pyplot as plt\n",
    "import datetime\n",
    "\n",
    "\n",
    "from sklearn.naive_bayes import GaussianNB\n",
    "from sklearn.linear_model import LogisticRegression\n",
    "from sklearn.model_selection import cross_val_score\n",
    "\n",
    "%matplotlib inline\n"
   ]
  },
  {
   "cell_type": "code",
   "execution_count": 2,
   "metadata": {},
   "outputs": [],
   "source": [
    "my_df = pd.read_csv(\"workouts.csv\")\n",
    "df = pd.read_csv(\"cleaned_marathon.csv\")"
   ]
  },
  {
   "cell_type": "code",
   "execution_count": 3,
   "metadata": {},
   "outputs": [
    {
     "data": {
      "text/plain": [
       "Index(['Title', 'WorkoutType', 'WorkoutDescription', 'PlannedDuration',\n",
       "       'PlannedDistanceInMeters', 'WorkoutDay', 'CoachComments',\n",
       "       'DistanceInMeters', 'PowerAverage', 'PowerMax', 'Energy',\n",
       "       'AthleteComments', 'TimeTotalInHours', 'VelocityAverage', 'VelocityMax',\n",
       "       'CadenceAverage', 'CadenceMax', 'HeartRateAverage', 'HeartRateMax',\n",
       "       'TorqueAverage', 'TorqueMax', 'IF', 'TSS', 'HRZone1Minutes',\n",
       "       'HRZone2Minutes', 'HRZone3Minutes', 'HRZone4Minutes', 'HRZone5Minutes',\n",
       "       'HRZone6Minutes', 'HRZone7Minutes', 'HRZone8Minutes', 'HRZone9Minutes',\n",
       "       'HRZone10Minutes', 'PWRZone1Minutes', 'PWRZone2Minutes',\n",
       "       'PWRZone3Minutes', 'PWRZone4Minutes', 'PWRZone5Minutes',\n",
       "       'PWRZone6Minutes', 'PWRZone7Minutes', 'PWRZone8Minutes',\n",
       "       'PWRZone9Minutes', 'PWRZone10Minutes', 'Rpe', 'Feeling'],\n",
       "      dtype='object')"
      ]
     },
     "execution_count": 3,
     "metadata": {},
     "output_type": "execute_result"
    }
   ],
   "source": [
    "my_df.columns"
   ]
  },
  {
   "cell_type": "code",
   "execution_count": 4,
   "metadata": {},
   "outputs": [],
   "source": [
    "cols_to_drop = ['Title', 'WorkoutDescription', 'PlannedDuration',\n",
    "                'PlannedDistanceInMeters', 'CoachComments',\n",
    "                'PowerAverage', 'PowerMax', 'Energy','HRZone9Minutes',\n",
    "               'AthleteComments', 'VelocityAverage', 'VelocityMax',\n",
    "               'CadenceAverage', 'CadenceMax', 'HRZone5Minutes',\n",
    "               'TorqueAverage', 'TorqueMax', 'HRZone1Minutes',\n",
    "               'HRZone2Minutes', 'HRZone3Minutes', 'HRZone4Minutes', \n",
    "               'HRZone6Minutes', 'HRZone7Minutes', 'HRZone8Minutes', \n",
    "               'HRZone10Minutes', 'PWRZone1Minutes', 'PWRZone2Minutes',\n",
    "               'PWRZone3Minutes', 'PWRZone4Minutes', 'PWRZone5Minutes',\n",
    "               'PWRZone6Minutes', 'PWRZone7Minutes', 'PWRZone8Minutes',\n",
    "               'PWRZone9Minutes', 'PWRZone10Minutes', 'Rpe', 'Feeling']\n",
    "my_df = my_df.drop(columns=cols_to_drop)"
   ]
  },
  {
   "cell_type": "code",
   "execution_count": 5,
   "metadata": {},
   "outputs": [
    {
     "data": {
      "text/html": [
       "<div>\n",
       "<style scoped>\n",
       "    .dataframe tbody tr th:only-of-type {\n",
       "        vertical-align: middle;\n",
       "    }\n",
       "\n",
       "    .dataframe tbody tr th {\n",
       "        vertical-align: top;\n",
       "    }\n",
       "\n",
       "    .dataframe thead th {\n",
       "        text-align: right;\n",
       "    }\n",
       "</style>\n",
       "<table border=\"1\" class=\"dataframe\">\n",
       "  <thead>\n",
       "    <tr style=\"text-align: right;\">\n",
       "      <th></th>\n",
       "      <th>WorkoutType</th>\n",
       "      <th>WorkoutDay</th>\n",
       "      <th>DistanceInMeters</th>\n",
       "      <th>TimeTotalInHours</th>\n",
       "      <th>HeartRateAverage</th>\n",
       "      <th>HeartRateMax</th>\n",
       "      <th>IF</th>\n",
       "      <th>TSS</th>\n",
       "    </tr>\n",
       "  </thead>\n",
       "  <tbody>\n",
       "    <tr>\n",
       "      <th>0</th>\n",
       "      <td>Run</td>\n",
       "      <td>2020-11-30</td>\n",
       "      <td>16120.389648</td>\n",
       "      <td>1.450522</td>\n",
       "      <td>141.0</td>\n",
       "      <td>158.0</td>\n",
       "      <td>0.822064</td>\n",
       "      <td>109.63</td>\n",
       "    </tr>\n",
       "    <tr>\n",
       "      <th>1</th>\n",
       "      <td>Run</td>\n",
       "      <td>2020-12-02</td>\n",
       "      <td>7439.640137</td>\n",
       "      <td>0.658955</td>\n",
       "      <td>136.0</td>\n",
       "      <td>148.0</td>\n",
       "      <td>0.840057</td>\n",
       "      <td>50.97</td>\n",
       "    </tr>\n",
       "    <tr>\n",
       "      <th>2</th>\n",
       "      <td>Bike</td>\n",
       "      <td>2020-12-03</td>\n",
       "      <td>42495.191406</td>\n",
       "      <td>2.069444</td>\n",
       "      <td>127.0</td>\n",
       "      <td>140.0</td>\n",
       "      <td>0.680521</td>\n",
       "      <td>95.37</td>\n",
       "    </tr>\n",
       "    <tr>\n",
       "      <th>3</th>\n",
       "      <td>Run</td>\n",
       "      <td>2020-12-04</td>\n",
       "      <td>5016.410156</td>\n",
       "      <td>0.331941</td>\n",
       "      <td>170.0</td>\n",
       "      <td>179.0</td>\n",
       "      <td>1.114853</td>\n",
       "      <td>44.46</td>\n",
       "    </tr>\n",
       "    <tr>\n",
       "      <th>4</th>\n",
       "      <td>Walk</td>\n",
       "      <td>2020-12-05</td>\n",
       "      <td>25441.029297</td>\n",
       "      <td>6.989309</td>\n",
       "      <td>NaN</td>\n",
       "      <td>NaN</td>\n",
       "      <td>0.380311</td>\n",
       "      <td>117.57</td>\n",
       "    </tr>\n",
       "  </tbody>\n",
       "</table>\n",
       "</div>"
      ],
      "text/plain": [
       "  WorkoutType  WorkoutDay  DistanceInMeters  TimeTotalInHours  \\\n",
       "0         Run  2020-11-30      16120.389648          1.450522   \n",
       "1         Run  2020-12-02       7439.640137          0.658955   \n",
       "2        Bike  2020-12-03      42495.191406          2.069444   \n",
       "3         Run  2020-12-04       5016.410156          0.331941   \n",
       "4        Walk  2020-12-05      25441.029297          6.989309   \n",
       "\n",
       "   HeartRateAverage  HeartRateMax        IF     TSS  \n",
       "0             141.0         158.0  0.822064  109.63  \n",
       "1             136.0         148.0  0.840057   50.97  \n",
       "2             127.0         140.0  0.680521   95.37  \n",
       "3             170.0         179.0  1.114853   44.46  \n",
       "4               NaN           NaN  0.380311  117.57  "
      ]
     },
     "execution_count": 5,
     "metadata": {},
     "output_type": "execute_result"
    }
   ],
   "source": [
    "my_df.head()"
   ]
  },
  {
   "cell_type": "code",
   "execution_count": 6,
   "metadata": {},
   "outputs": [],
   "source": [
    "rename_cols = {\"WorkoutType\": \"workout_type\", \"WorkoutDay\": \"workout_day\", \"DistanceInMeters\": \"distance_meters\",\n",
    "             \"TimeTotalInHours\": \"time_hours\", \"HeartRateAverage\": \"avg_heart_rate\", \"HeartRateMax\": \"max_heart_rate\",\n",
    "             \"IF\": \"if\", \"TSS\": \"tss\"}\n",
    "\n",
    "my_df.rename(columns=rename_cols, inplace=True)"
   ]
  },
  {
   "cell_type": "code",
   "execution_count": 7,
   "metadata": {},
   "outputs": [
    {
     "data": {
      "text/html": [
       "<div>\n",
       "<style scoped>\n",
       "    .dataframe tbody tr th:only-of-type {\n",
       "        vertical-align: middle;\n",
       "    }\n",
       "\n",
       "    .dataframe tbody tr th {\n",
       "        vertical-align: top;\n",
       "    }\n",
       "\n",
       "    .dataframe thead th {\n",
       "        text-align: right;\n",
       "    }\n",
       "</style>\n",
       "<table border=\"1\" class=\"dataframe\">\n",
       "  <thead>\n",
       "    <tr style=\"text-align: right;\">\n",
       "      <th></th>\n",
       "      <th>workout_type</th>\n",
       "      <th>workout_day</th>\n",
       "      <th>distance_meters</th>\n",
       "      <th>time_hours</th>\n",
       "      <th>avg_heart_rate</th>\n",
       "      <th>max_heart_rate</th>\n",
       "      <th>if</th>\n",
       "      <th>tss</th>\n",
       "    </tr>\n",
       "  </thead>\n",
       "  <tbody>\n",
       "    <tr>\n",
       "      <th>0</th>\n",
       "      <td>Run</td>\n",
       "      <td>2020-11-30</td>\n",
       "      <td>16120.389648</td>\n",
       "      <td>1.450522</td>\n",
       "      <td>141.0</td>\n",
       "      <td>158.0</td>\n",
       "      <td>0.822064</td>\n",
       "      <td>109.63</td>\n",
       "    </tr>\n",
       "    <tr>\n",
       "      <th>1</th>\n",
       "      <td>Run</td>\n",
       "      <td>2020-12-02</td>\n",
       "      <td>7439.640137</td>\n",
       "      <td>0.658955</td>\n",
       "      <td>136.0</td>\n",
       "      <td>148.0</td>\n",
       "      <td>0.840057</td>\n",
       "      <td>50.97</td>\n",
       "    </tr>\n",
       "    <tr>\n",
       "      <th>2</th>\n",
       "      <td>Bike</td>\n",
       "      <td>2020-12-03</td>\n",
       "      <td>42495.191406</td>\n",
       "      <td>2.069444</td>\n",
       "      <td>127.0</td>\n",
       "      <td>140.0</td>\n",
       "      <td>0.680521</td>\n",
       "      <td>95.37</td>\n",
       "    </tr>\n",
       "    <tr>\n",
       "      <th>3</th>\n",
       "      <td>Run</td>\n",
       "      <td>2020-12-04</td>\n",
       "      <td>5016.410156</td>\n",
       "      <td>0.331941</td>\n",
       "      <td>170.0</td>\n",
       "      <td>179.0</td>\n",
       "      <td>1.114853</td>\n",
       "      <td>44.46</td>\n",
       "    </tr>\n",
       "    <tr>\n",
       "      <th>4</th>\n",
       "      <td>Walk</td>\n",
       "      <td>2020-12-05</td>\n",
       "      <td>25441.029297</td>\n",
       "      <td>6.989309</td>\n",
       "      <td>NaN</td>\n",
       "      <td>NaN</td>\n",
       "      <td>0.380311</td>\n",
       "      <td>117.57</td>\n",
       "    </tr>\n",
       "  </tbody>\n",
       "</table>\n",
       "</div>"
      ],
      "text/plain": [
       "  workout_type workout_day  distance_meters  time_hours  avg_heart_rate  \\\n",
       "0          Run  2020-11-30     16120.389648    1.450522           141.0   \n",
       "1          Run  2020-12-02      7439.640137    0.658955           136.0   \n",
       "2         Bike  2020-12-03     42495.191406    2.069444           127.0   \n",
       "3          Run  2020-12-04      5016.410156    0.331941           170.0   \n",
       "4         Walk  2020-12-05     25441.029297    6.989309             NaN   \n",
       "\n",
       "   max_heart_rate        if     tss  \n",
       "0           158.0  0.822064  109.63  \n",
       "1           148.0  0.840057   50.97  \n",
       "2           140.0  0.680521   95.37  \n",
       "3           179.0  1.114853   44.46  \n",
       "4             NaN  0.380311  117.57  "
      ]
     },
     "execution_count": 7,
     "metadata": {},
     "output_type": "execute_result"
    }
   ],
   "source": [
    "my_df.head()"
   ]
  },
  {
   "cell_type": "code",
   "execution_count": 8,
   "metadata": {},
   "outputs": [],
   "source": [
    "my_df[\"distance_miles\"] = my_df[\"distance_meters\"] * 0.0006213712\n",
    "my_df[\"miles_per_hour\"] = my_df[\"distance_miles\"] / my_df[\"time_hours\"]\n",
    "my_df[\"mins_per_mile\"] = 60 / my_df[\"miles_per_hour\"]"
   ]
  },
  {
   "cell_type": "code",
   "execution_count": 9,
   "metadata": {},
   "outputs": [
    {
     "data": {
      "text/html": [
       "<div>\n",
       "<style scoped>\n",
       "    .dataframe tbody tr th:only-of-type {\n",
       "        vertical-align: middle;\n",
       "    }\n",
       "\n",
       "    .dataframe tbody tr th {\n",
       "        vertical-align: top;\n",
       "    }\n",
       "\n",
       "    .dataframe thead th {\n",
       "        text-align: right;\n",
       "    }\n",
       "</style>\n",
       "<table border=\"1\" class=\"dataframe\">\n",
       "  <thead>\n",
       "    <tr style=\"text-align: right;\">\n",
       "      <th></th>\n",
       "      <th>workout_type</th>\n",
       "      <th>workout_day</th>\n",
       "      <th>distance_meters</th>\n",
       "      <th>time_hours</th>\n",
       "      <th>avg_heart_rate</th>\n",
       "      <th>max_heart_rate</th>\n",
       "      <th>if</th>\n",
       "      <th>tss</th>\n",
       "      <th>distance_miles</th>\n",
       "      <th>miles_per_hour</th>\n",
       "      <th>mins_per_mile</th>\n",
       "    </tr>\n",
       "  </thead>\n",
       "  <tbody>\n",
       "    <tr>\n",
       "      <th>0</th>\n",
       "      <td>Run</td>\n",
       "      <td>2020-11-30</td>\n",
       "      <td>16120.389648</td>\n",
       "      <td>1.450522</td>\n",
       "      <td>141.0</td>\n",
       "      <td>158.0</td>\n",
       "      <td>0.822064</td>\n",
       "      <td>109.63</td>\n",
       "      <td>10.016746</td>\n",
       "      <td>6.905615</td>\n",
       "      <td>8.688582</td>\n",
       "    </tr>\n",
       "    <tr>\n",
       "      <th>1</th>\n",
       "      <td>Run</td>\n",
       "      <td>2020-12-02</td>\n",
       "      <td>7439.640137</td>\n",
       "      <td>0.658955</td>\n",
       "      <td>136.0</td>\n",
       "      <td>148.0</td>\n",
       "      <td>0.840057</td>\n",
       "      <td>50.97</td>\n",
       "      <td>4.622778</td>\n",
       "      <td>7.015320</td>\n",
       "      <td>8.552711</td>\n",
       "    </tr>\n",
       "    <tr>\n",
       "      <th>2</th>\n",
       "      <td>Bike</td>\n",
       "      <td>2020-12-03</td>\n",
       "      <td>42495.191406</td>\n",
       "      <td>2.069444</td>\n",
       "      <td>127.0</td>\n",
       "      <td>140.0</td>\n",
       "      <td>0.680521</td>\n",
       "      <td>95.37</td>\n",
       "      <td>26.405288</td>\n",
       "      <td>12.759602</td>\n",
       "      <td>4.702341</td>\n",
       "    </tr>\n",
       "    <tr>\n",
       "      <th>3</th>\n",
       "      <td>Run</td>\n",
       "      <td>2020-12-04</td>\n",
       "      <td>5016.410156</td>\n",
       "      <td>0.331941</td>\n",
       "      <td>170.0</td>\n",
       "      <td>179.0</td>\n",
       "      <td>1.114853</td>\n",
       "      <td>44.46</td>\n",
       "      <td>3.117053</td>\n",
       "      <td>9.390371</td>\n",
       "      <td>6.389524</td>\n",
       "    </tr>\n",
       "    <tr>\n",
       "      <th>4</th>\n",
       "      <td>Walk</td>\n",
       "      <td>2020-12-05</td>\n",
       "      <td>25441.029297</td>\n",
       "      <td>6.989309</td>\n",
       "      <td>NaN</td>\n",
       "      <td>NaN</td>\n",
       "      <td>0.380311</td>\n",
       "      <td>117.57</td>\n",
       "      <td>15.808323</td>\n",
       "      <td>2.261786</td>\n",
       "      <td>26.527705</td>\n",
       "    </tr>\n",
       "  </tbody>\n",
       "</table>\n",
       "</div>"
      ],
      "text/plain": [
       "  workout_type workout_day  distance_meters  time_hours  avg_heart_rate  \\\n",
       "0          Run  2020-11-30     16120.389648    1.450522           141.0   \n",
       "1          Run  2020-12-02      7439.640137    0.658955           136.0   \n",
       "2         Bike  2020-12-03     42495.191406    2.069444           127.0   \n",
       "3          Run  2020-12-04      5016.410156    0.331941           170.0   \n",
       "4         Walk  2020-12-05     25441.029297    6.989309             NaN   \n",
       "\n",
       "   max_heart_rate        if     tss  distance_miles  miles_per_hour  \\\n",
       "0           158.0  0.822064  109.63       10.016746        6.905615   \n",
       "1           148.0  0.840057   50.97        4.622778        7.015320   \n",
       "2           140.0  0.680521   95.37       26.405288       12.759602   \n",
       "3           179.0  1.114853   44.46        3.117053        9.390371   \n",
       "4             NaN  0.380311  117.57       15.808323        2.261786   \n",
       "\n",
       "   mins_per_mile  \n",
       "0       8.688582  \n",
       "1       8.552711  \n",
       "2       4.702341  \n",
       "3       6.389524  \n",
       "4      26.527705  "
      ]
     },
     "execution_count": 9,
     "metadata": {},
     "output_type": "execute_result"
    }
   ],
   "source": [
    "my_df.head()"
   ]
  },
  {
   "cell_type": "code",
   "execution_count": 10,
   "metadata": {},
   "outputs": [
    {
     "data": {
      "image/png": "[encoded data removed]",
      "text/plain": [
       "<Figure size 432x288 with 1 Axes>"
      ]
     },
     "metadata": {
      "needs_background": "light"
     },
     "output_type": "display_data"
    }
   ],
   "source": [
    "my_df.groupby(\"workout_type\").sum()[\"time_hours\"].plot(kind = \"bar\");\n",
    "plt.grid(linestyle='--', linewidth=2, axis='y', alpha=0.7)\n",
    "plt.title(\"Workout Type Over 15 Weeks\")\n",
    "plt.ylabel(\"Hours\")\n",
    "plt.xlabel(\"Workout Type\");"
   ]
  },
  {
   "cell_type": "code",
   "execution_count": 11,
   "metadata": {},
   "outputs": [],
   "source": [
    "my_df[\"workout_day\"] = pd.to_datetime(my_df[\"workout_day\"])"
   ]
  },
  {
   "cell_type": "code",
   "execution_count": 12,
   "metadata": {},
   "outputs": [
    {
     "name": "stdout",
     "output_type": "stream",
     "text": [
      "<class 'pandas.core.frame.DataFrame'>\n",
      "RangeIndex: 74 entries, 0 to 73\n",
      "Data columns (total 11 columns):\n",
      " #   Column           Non-Null Count  Dtype         \n",
      "---  ------           --------------  -----         \n",
      " 0   workout_type     74 non-null     object        \n",
      " 1   workout_day      74 non-null     datetime64[ns]\n",
      " 2   distance_meters  74 non-null     float64       \n",
      " 3   time_hours       74 non-null     float64       \n",
      " 4   avg_heart_rate   64 non-null     float64       \n",
      " 5   max_heart_rate   64 non-null     float64       \n",
      " 6   if               74 non-null     float64       \n",
      " 7   tss              74 non-null     float64       \n",
      " 8   distance_miles   74 non-null     float64       \n",
      " 9   miles_per_hour   74 non-null     float64       \n",
      " 10  mins_per_mile    74 non-null     float64       \n",
      "dtypes: datetime64[ns](1), float64(9), object(1)\n",
      "memory usage: 6.5+ KB\n"
     ]
    }
   ],
   "source": [
    "my_df.info()"
   ]
  },
  {
   "cell_type": "code",
   "execution_count": 13,
   "metadata": {},
   "outputs": [
    {
     "data": {
      "text/html": [
       "<div>\n",
       "<style scoped>\n",
       "    .dataframe tbody tr th:only-of-type {\n",
       "        vertical-align: middle;\n",
       "    }\n",
       "\n",
       "    .dataframe tbody tr th {\n",
       "        vertical-align: top;\n",
       "    }\n",
       "\n",
       "    .dataframe thead th {\n",
       "        text-align: right;\n",
       "    }\n",
       "</style>\n",
       "<table border=\"1\" class=\"dataframe\">\n",
       "  <thead>\n",
       "    <tr style=\"text-align: right;\">\n",
       "      <th></th>\n",
       "      <th>workout_type</th>\n",
       "      <th>workout_day</th>\n",
       "      <th>distance_meters</th>\n",
       "      <th>time_hours</th>\n",
       "      <th>avg_heart_rate</th>\n",
       "      <th>max_heart_rate</th>\n",
       "      <th>if</th>\n",
       "      <th>tss</th>\n",
       "      <th>distance_miles</th>\n",
       "      <th>miles_per_hour</th>\n",
       "      <th>mins_per_mile</th>\n",
       "    </tr>\n",
       "  </thead>\n",
       "  <tbody>\n",
       "    <tr>\n",
       "      <th>0</th>\n",
       "      <td>Run</td>\n",
       "      <td>2020-11-30</td>\n",
       "      <td>16120.389648</td>\n",
       "      <td>1.450522</td>\n",
       "      <td>141.0</td>\n",
       "      <td>158.0</td>\n",
       "      <td>0.822064</td>\n",
       "      <td>109.63</td>\n",
       "      <td>10.016746</td>\n",
       "      <td>6.905615</td>\n",
       "      <td>8.688582</td>\n",
       "    </tr>\n",
       "  </tbody>\n",
       "</table>\n",
       "</div>"
      ],
      "text/plain": [
       "  workout_type workout_day  distance_meters  time_hours  avg_heart_rate  \\\n",
       "0          Run  2020-11-30     16120.389648    1.450522           141.0   \n",
       "\n",
       "   max_heart_rate        if     tss  distance_miles  miles_per_hour  \\\n",
       "0           158.0  0.822064  109.63       10.016746        6.905615   \n",
       "\n",
       "   mins_per_mile  \n",
       "0       8.688582  "
      ]
     },
     "execution_count": 13,
     "metadata": {},
     "output_type": "execute_result"
    }
   ],
   "source": [
    "my_df.head(1)"
   ]
  },
  {
   "cell_type": "code",
   "execution_count": 14,
   "metadata": {},
   "outputs": [],
   "source": [
    "my_df[\"month\"] = my_df[\"workout_day\"].dt.month\n",
    "my_df[\"week\"] = my_df[\"workout_day\"].dt.isocalendar().week"
   ]
  },
  {
   "cell_type": "code",
   "execution_count": 15,
   "metadata": {},
   "outputs": [
    {
     "data": {
      "text/html": [
       "<div>\n",
       "<style scoped>\n",
       "    .dataframe tbody tr th:only-of-type {\n",
       "        vertical-align: middle;\n",
       "    }\n",
       "\n",
       "    .dataframe tbody tr th {\n",
       "        vertical-align: top;\n",
       "    }\n",
       "\n",
       "    .dataframe thead th {\n",
       "        text-align: right;\n",
       "    }\n",
       "</style>\n",
       "<table border=\"1\" class=\"dataframe\">\n",
       "  <thead>\n",
       "    <tr style=\"text-align: right;\">\n",
       "      <th></th>\n",
       "      <th>workout_type</th>\n",
       "      <th>workout_day</th>\n",
       "      <th>distance_meters</th>\n",
       "      <th>time_hours</th>\n",
       "      <th>avg_heart_rate</th>\n",
       "      <th>max_heart_rate</th>\n",
       "      <th>if</th>\n",
       "      <th>tss</th>\n",
       "      <th>distance_miles</th>\n",
       "      <th>miles_per_hour</th>\n",
       "      <th>mins_per_mile</th>\n",
       "      <th>month</th>\n",
       "      <th>week</th>\n",
       "    </tr>\n",
       "  </thead>\n",
       "  <tbody>\n",
       "    <tr>\n",
       "      <th>0</th>\n",
       "      <td>Run</td>\n",
       "      <td>2020-11-30</td>\n",
       "      <td>16120.389648</td>\n",
       "      <td>1.450522</td>\n",
       "      <td>141.0</td>\n",
       "      <td>158.0</td>\n",
       "      <td>0.822064</td>\n",
       "      <td>109.63</td>\n",
       "      <td>10.016746</td>\n",
       "      <td>6.905615</td>\n",
       "      <td>8.688582</td>\n",
       "      <td>11</td>\n",
       "      <td>49</td>\n",
       "    </tr>\n",
       "    <tr>\n",
       "      <th>1</th>\n",
       "      <td>Run</td>\n",
       "      <td>2020-12-02</td>\n",
       "      <td>7439.640137</td>\n",
       "      <td>0.658955</td>\n",
       "      <td>136.0</td>\n",
       "      <td>148.0</td>\n",
       "      <td>0.840057</td>\n",
       "      <td>50.97</td>\n",
       "      <td>4.622778</td>\n",
       "      <td>7.015320</td>\n",
       "      <td>8.552711</td>\n",
       "      <td>12</td>\n",
       "      <td>49</td>\n",
       "    </tr>\n",
       "    <tr>\n",
       "      <th>2</th>\n",
       "      <td>Bike</td>\n",
       "      <td>2020-12-03</td>\n",
       "      <td>42495.191406</td>\n",
       "      <td>2.069444</td>\n",
       "      <td>127.0</td>\n",
       "      <td>140.0</td>\n",
       "      <td>0.680521</td>\n",
       "      <td>95.37</td>\n",
       "      <td>26.405288</td>\n",
       "      <td>12.759602</td>\n",
       "      <td>4.702341</td>\n",
       "      <td>12</td>\n",
       "      <td>49</td>\n",
       "    </tr>\n",
       "    <tr>\n",
       "      <th>3</th>\n",
       "      <td>Run</td>\n",
       "      <td>2020-12-04</td>\n",
       "      <td>5016.410156</td>\n",
       "      <td>0.331941</td>\n",
       "      <td>170.0</td>\n",
       "      <td>179.0</td>\n",
       "      <td>1.114853</td>\n",
       "      <td>44.46</td>\n",
       "      <td>3.117053</td>\n",
       "      <td>9.390371</td>\n",
       "      <td>6.389524</td>\n",
       "      <td>12</td>\n",
       "      <td>49</td>\n",
       "    </tr>\n",
       "    <tr>\n",
       "      <th>4</th>\n",
       "      <td>Walk</td>\n",
       "      <td>2020-12-05</td>\n",
       "      <td>25441.029297</td>\n",
       "      <td>6.989309</td>\n",
       "      <td>NaN</td>\n",
       "      <td>NaN</td>\n",
       "      <td>0.380311</td>\n",
       "      <td>117.57</td>\n",
       "      <td>15.808323</td>\n",
       "      <td>2.261786</td>\n",
       "      <td>26.527705</td>\n",
       "      <td>12</td>\n",
       "      <td>49</td>\n",
       "    </tr>\n",
       "  </tbody>\n",
       "</table>\n",
       "</div>"
      ],
      "text/plain": [
       "  workout_type workout_day  distance_meters  time_hours  avg_heart_rate  \\\n",
       "0          Run  2020-11-30     16120.389648    1.450522           141.0   \n",
       "1          Run  2020-12-02      7439.640137    0.658955           136.0   \n",
       "2         Bike  2020-12-03     42495.191406    2.069444           127.0   \n",
       "3          Run  2020-12-04      5016.410156    0.331941           170.0   \n",
       "4         Walk  2020-12-05     25441.029297    6.989309             NaN   \n",
       "\n",
       "   max_heart_rate        if     tss  distance_miles  miles_per_hour  \\\n",
       "0           158.0  0.822064  109.63       10.016746        6.905615   \n",
       "1           148.0  0.840057   50.97        4.622778        7.015320   \n",
       "2           140.0  0.680521   95.37       26.405288       12.759602   \n",
       "3           179.0  1.114853   44.46        3.117053        9.390371   \n",
       "4             NaN  0.380311  117.57       15.808323        2.261786   \n",
       "\n",
       "   mins_per_mile  month  week  \n",
       "0       8.688582     11    49  \n",
       "1       8.552711     12    49  \n",
       "2       4.702341     12    49  \n",
       "3       6.389524     12    49  \n",
       "4      26.527705     12    49  "
      ]
     },
     "execution_count": 15,
     "metadata": {},
     "output_type": "execute_result"
    }
   ],
   "source": [
    "my_df.head()"
   ]
  },
  {
   "cell_type": "code",
   "execution_count": null,
   "metadata": {},
   "outputs": [],
   "source": []
  },
  {
   "cell_type": "code",
   "execution_count": 16,
   "metadata": {},
   "outputs": [],
   "source": [
    "month_change = {11: 1, 12: 1, 1: 2, 2:3, 3:4}\n",
    "week_change = {49: 1, 50: 2, 51: 3, 52: 4, 53: 5, 2: 6, 3: 7, 4: 8, 5: 9,\n",
    "               6: 10, 7: 11, 8: 12, 9: 13, 10: 14, 11: 15}"
   ]
  },
  {
   "cell_type": "code",
   "execution_count": 17,
   "metadata": {},
   "outputs": [],
   "source": [
    "my_df[\"month\"] = my_df[\"month\"].replace(month_change)"
   ]
  },
  {
   "cell_type": "code",
   "execution_count": 18,
   "metadata": {},
   "outputs": [
    {
     "data": {
      "text/plain": [
       "1    23\n",
       "3    19\n",
       "2    17\n",
       "4    15\n",
       "Name: month, dtype: int64"
      ]
     },
     "execution_count": 18,
     "metadata": {},
     "output_type": "execute_result"
    }
   ],
   "source": [
    "my_df[\"month\"].value_counts()"
   ]
  },
  {
   "cell_type": "code",
   "execution_count": 19,
   "metadata": {},
   "outputs": [],
   "source": [
    "my_df[\"week\"] = my_df[\"week\"].replace(week_change)"
   ]
  },
  {
   "cell_type": "code",
   "execution_count": 20,
   "metadata": {},
   "outputs": [
    {
     "data": {
      "image/png": "[encoded data removed]",
      "text/plain": [
       "<Figure size 432x288 with 1 Axes>"
      ]
     },
     "metadata": {
      "needs_background": "light"
     },
     "output_type": "display_data"
    }
   ],
   "source": [
    "my_df.groupby(\"month\")[\"time_hours\"].sum().plot(kind=\"bar\");\n",
    "plt.grid(linestyle='--', linewidth=2, axis='y', alpha=0.7)\n",
    "plt.title(\"Monthly Workout Hours\")\n",
    "plt.ylabel(\"Hours\")\n",
    "plt.xlabel(\"Month\");"
   ]
  },
  {
   "cell_type": "code",
   "execution_count": 163,
   "metadata": {},
   "outputs": [
    {
     "data": {
      "text/plain": [
       "7.12396884461244"
      ]
     },
     "execution_count": 163,
     "metadata": {},
     "output_type": "execute_result"
    }
   ],
   "source": [
    "#Average weekly hours spent exercising over the 15 week period\n",
    "my_df[\"time_hours\"].sum() / 15"
   ]
  },
  {
   "cell_type": "code",
   "execution_count": 22,
   "metadata": {},
   "outputs": [
    {
     "data": {
      "image/png": "[encoded data removed]",
      "text/plain": [
       "<Figure size 432x288 with 1 Axes>"
      ]
     },
     "metadata": {
      "needs_background": "light"
     },
     "output_type": "display_data"
    }
   ],
   "source": [
    "my_df.groupby(\"week\")[\"time_hours\"].sum().plot(kind=\"bar\");\n",
    "plt.title(\"Weekly Workout Hours\")\n",
    "plt.ylabel(\"Hours\")\n",
    "plt.xlabel(\"Week\");"
   ]
  },
  {
   "cell_type": "code",
   "execution_count": 23,
   "metadata": {},
   "outputs": [
    {
     "data": {
      "image/png": "[encoded data removed]",
      "text/plain": [
       "<Figure size 432x288 with 1 Axes>"
      ]
     },
     "metadata": {
      "needs_background": "light"
     },
     "output_type": "display_data"
    }
   ],
   "source": [
    "my_df.groupby(\"week\")[\"tss\"].sum().plot(kind=\"bar\");\n",
    "plt.grid(linestyle='--', linewidth=2, axis='y', alpha=0.7)\n",
    "plt.title(\"Weekly TSS\")\n",
    "plt.ylabel(\"TSS\")\n",
    "plt.xlabel(\"Week\");"
   ]
  },
  {
   "cell_type": "markdown",
   "metadata": {},
   "source": [
    "Noteable Run Dates:\n",
    "\n",
    "- 12/31 10km PB (Mid week 5)\n",
    "- 01/31 5km PB (End week 9)\n",
    "- 03/19 14 mile run (unplanned distance but set half marathon PB, week 15)\n",
    "\n",
    "Now I will look at just my running data. The fitness data included a lot of walking, which accounted for a lot of hours.\n"
   ]
  },
  {
   "cell_type": "code",
   "execution_count": 24,
   "metadata": {},
   "outputs": [],
   "source": [
    "my_run_df = my_df[my_df[\"workout_type\"] == \"Run\"]"
   ]
  },
  {
   "cell_type": "code",
   "execution_count": 25,
   "metadata": {},
   "outputs": [
    {
     "data": {
      "image/png": "[encoded data removed]",
      "text/plain": [
       "<Figure size 432x288 with 1 Axes>"
      ]
     },
     "metadata": {
      "needs_background": "light"
     },
     "output_type": "display_data"
    }
   ],
   "source": [
    "my_run_df.groupby(\"month\")[\"distance_miles\"].sum().plot(kind=\"bar\");\n",
    "plt.title(\"Monthly Running Miles\")\n",
    "plt.ylabel(\"Miles\")\n",
    "plt.xlabel(\"Month\");"
   ]
  },
  {
   "cell_type": "code",
   "execution_count": 26,
   "metadata": {},
   "outputs": [
    {
     "data": {
      "image/png": "[encoded data removed]",
      "text/plain": [
       "<Figure size 432x288 with 1 Axes>"
      ]
     },
     "metadata": {
      "needs_background": "light"
     },
     "output_type": "display_data"
    }
   ],
   "source": [
    "my_run_df.groupby(\"month\")[\"time_hours\"].sum().plot(kind=\"bar\");\n",
    "plt.title(\"Monthly Running Hours\")\n",
    "plt.ylabel(\"Hours\")\n",
    "plt.xlabel(\"Month\");"
   ]
  },
  {
   "cell_type": "code",
   "execution_count": 27,
   "metadata": {},
   "outputs": [
    {
     "data": {
      "image/png": "[encoded data removed]",
      "text/plain": [
       "<Figure size 432x288 with 1 Axes>"
      ]
     },
     "metadata": {
      "needs_background": "light"
     },
     "output_type": "display_data"
    }
   ],
   "source": [
    "colors = [\"tab:blue\"] * 15\n",
    "colors[4] = \"r\"\n",
    "colors[8] = \"r\"\n",
    "colors[14] = \"r\"\n",
    "\n",
    "my_run_df.groupby(\"week\")[\"distance_miles\"].sum().plot(kind=\"bar\", color=colors);\n",
    "plt.grid(linestyle='--', linewidth=2, axis='y', alpha=0.7)\n",
    "plt.title(\"Weekly Running Miles\")\n",
    "plt.ylabel(\"Miles\")\n",
    "plt.xlabel(\"Week\");"
   ]
  },
  {
   "cell_type": "code",
   "execution_count": 28,
   "metadata": {},
   "outputs": [
    {
     "data": {
      "image/png": "[encoded data removed]",
      "text/plain": [
       "<Figure size 432x288 with 1 Axes>"
      ]
     },
     "metadata": {
      "needs_background": "light"
     },
     "output_type": "display_data"
    }
   ],
   "source": [
    "colors = [\"tab:blue\"] * 15\n",
    "colors[4] = \"r\"\n",
    "colors[8] = \"r\"\n",
    "colors[14] = \"r\"\n",
    "\n",
    "my_run_df.groupby(\"week\")[\"time_hours\"].sum().plot(kind=\"bar\", color=colors);\n",
    "plt.grid(linestyle='--', linewidth=2, axis='y', alpha=0.7)\n",
    "plt.title(\"Weekly Running Hours\")\n",
    "plt.ylabel(\"Hours\")\n",
    "plt.xlabel(\"Week\");"
   ]
  },
  {
   "cell_type": "markdown",
   "metadata": {},
   "source": [
    "From the two charts above, we can see my best running times came at the end of the blocks. Which means I had a good 2/3 weeks of traning before the week. In future, I will try to do some timed runs after an easy week as this should produce better results. "
   ]
  },
  {
   "cell_type": "code",
   "execution_count": 29,
   "metadata": {},
   "outputs": [
    {
     "data": {
      "image/png": "[encoded data removed]",
      "text/plain": [
       "<Figure size 432x288 with 1 Axes>"
      ]
     },
     "metadata": {
      "needs_background": "light"
     },
     "output_type": "display_data"
    }
   ],
   "source": [
    "my_run_df.groupby(\"week\")[\"tss\"].sum().plot(kind=\"bar\");\n",
    "plt.title(\"Weekly TSS\")\n",
    "plt.ylabel(\"TSS\")\n",
    "plt.xlabel(\"Week\");"
   ]
  },
  {
   "cell_type": "markdown",
   "metadata": {},
   "source": [
    "TSS, hours and miles are all going to be strongly correlated. Most of my running is done at a lower heart rate easy pace."
   ]
  },
  {
   "cell_type": "code",
   "execution_count": 30,
   "metadata": {},
   "outputs": [
    {
     "data": {
      "text/html": [
       "<div>\n",
       "<style scoped>\n",
       "    .dataframe tbody tr th:only-of-type {\n",
       "        vertical-align: middle;\n",
       "    }\n",
       "\n",
       "    .dataframe tbody tr th {\n",
       "        vertical-align: top;\n",
       "    }\n",
       "\n",
       "    .dataframe thead th {\n",
       "        text-align: right;\n",
       "    }\n",
       "</style>\n",
       "<table border=\"1\" class=\"dataframe\">\n",
       "  <thead>\n",
       "    <tr style=\"text-align: right;\">\n",
       "      <th></th>\n",
       "      <th>workout_type</th>\n",
       "      <th>workout_day</th>\n",
       "      <th>distance_meters</th>\n",
       "      <th>time_hours</th>\n",
       "      <th>avg_heart_rate</th>\n",
       "      <th>max_heart_rate</th>\n",
       "      <th>if</th>\n",
       "      <th>tss</th>\n",
       "      <th>distance_miles</th>\n",
       "      <th>miles_per_hour</th>\n",
       "      <th>mins_per_mile</th>\n",
       "      <th>month</th>\n",
       "      <th>week</th>\n",
       "    </tr>\n",
       "  </thead>\n",
       "  <tbody>\n",
       "    <tr>\n",
       "      <th>53</th>\n",
       "      <td>Run</td>\n",
       "      <td>2021-02-23</td>\n",
       "      <td>22542.609375</td>\n",
       "      <td>1.810975</td>\n",
       "      <td>154.0</td>\n",
       "      <td>167.0</td>\n",
       "      <td>0.922018</td>\n",
       "      <td>173.14</td>\n",
       "      <td>14.007328</td>\n",
       "      <td>7.734690</td>\n",
       "      <td>7.757260</td>\n",
       "      <td>3</td>\n",
       "      <td>12</td>\n",
       "    </tr>\n",
       "    <tr>\n",
       "      <th>72</th>\n",
       "      <td>Run</td>\n",
       "      <td>2021-03-19</td>\n",
       "      <td>22539.099609</td>\n",
       "      <td>1.646059</td>\n",
       "      <td>NaN</td>\n",
       "      <td>NaN</td>\n",
       "      <td>1.001596</td>\n",
       "      <td>185.23</td>\n",
       "      <td>14.005147</td>\n",
       "      <td>8.508288</td>\n",
       "      <td>7.051947</td>\n",
       "      <td>4</td>\n",
       "      <td>15</td>\n",
       "    </tr>\n",
       "    <tr>\n",
       "      <th>42</th>\n",
       "      <td>Run</td>\n",
       "      <td>2021-02-04</td>\n",
       "      <td>16330.910156</td>\n",
       "      <td>1.356666</td>\n",
       "      <td>149.0</td>\n",
       "      <td>165.0</td>\n",
       "      <td>0.872496</td>\n",
       "      <td>115.28</td>\n",
       "      <td>10.147557</td>\n",
       "      <td>7.479773</td>\n",
       "      <td>8.021634</td>\n",
       "      <td>3</td>\n",
       "      <td>9</td>\n",
       "    </tr>\n",
       "    <tr>\n",
       "      <th>0</th>\n",
       "      <td>Run</td>\n",
       "      <td>2020-11-30</td>\n",
       "      <td>16120.389648</td>\n",
       "      <td>1.450522</td>\n",
       "      <td>141.0</td>\n",
       "      <td>158.0</td>\n",
       "      <td>0.822064</td>\n",
       "      <td>109.63</td>\n",
       "      <td>10.016746</td>\n",
       "      <td>6.905615</td>\n",
       "      <td>8.688582</td>\n",
       "      <td>1</td>\n",
       "      <td>1</td>\n",
       "    </tr>\n",
       "    <tr>\n",
       "      <th>35</th>\n",
       "      <td>Run</td>\n",
       "      <td>2021-01-24</td>\n",
       "      <td>16099.849609</td>\n",
       "      <td>1.356310</td>\n",
       "      <td>147.0</td>\n",
       "      <td>164.0</td>\n",
       "      <td>0.874301</td>\n",
       "      <td>115.74</td>\n",
       "      <td>10.003983</td>\n",
       "      <td>7.375881</td>\n",
       "      <td>8.134622</td>\n",
       "      <td>2</td>\n",
       "      <td>7</td>\n",
       "    </tr>\n",
       "  </tbody>\n",
       "</table>\n",
       "</div>"
      ],
      "text/plain": [
       "   workout_type workout_day  distance_meters  time_hours  avg_heart_rate  \\\n",
       "53          Run  2021-02-23     22542.609375    1.810975           154.0   \n",
       "72          Run  2021-03-19     22539.099609    1.646059             NaN   \n",
       "42          Run  2021-02-04     16330.910156    1.356666           149.0   \n",
       "0           Run  2020-11-30     16120.389648    1.450522           141.0   \n",
       "35          Run  2021-01-24     16099.849609    1.356310           147.0   \n",
       "\n",
       "    max_heart_rate        if     tss  distance_miles  miles_per_hour  \\\n",
       "53           167.0  0.922018  173.14       14.007328        7.734690   \n",
       "72             NaN  1.001596  185.23       14.005147        8.508288   \n",
       "42           165.0  0.872496  115.28       10.147557        7.479773   \n",
       "0            158.0  0.822064  109.63       10.016746        6.905615   \n",
       "35           164.0  0.874301  115.74       10.003983        7.375881   \n",
       "\n",
       "    mins_per_mile  month  week  \n",
       "53       7.757260      3    12  \n",
       "72       7.051947      4    15  \n",
       "42       8.021634      3     9  \n",
       "0        8.688582      1     1  \n",
       "35       8.134622      2     7  "
      ]
     },
     "execution_count": 30,
     "metadata": {},
     "output_type": "execute_result"
    }
   ],
   "source": [
    "#5 Longest runs\n",
    "my_run_df.sort_values(\"distance_miles\", ascending=False)[:5]"
   ]
  },
  {
   "cell_type": "code",
   "execution_count": 31,
   "metadata": {},
   "outputs": [
    {
     "data": {
      "text/html": [
       "<div>\n",
       "<style scoped>\n",
       "    .dataframe tbody tr th:only-of-type {\n",
       "        vertical-align: middle;\n",
       "    }\n",
       "\n",
       "    .dataframe tbody tr th {\n",
       "        vertical-align: top;\n",
       "    }\n",
       "\n",
       "    .dataframe thead th {\n",
       "        text-align: right;\n",
       "    }\n",
       "</style>\n",
       "<table border=\"1\" class=\"dataframe\">\n",
       "  <thead>\n",
       "    <tr style=\"text-align: right;\">\n",
       "      <th></th>\n",
       "      <th>workout_type</th>\n",
       "      <th>workout_day</th>\n",
       "      <th>distance_meters</th>\n",
       "      <th>time_hours</th>\n",
       "      <th>avg_heart_rate</th>\n",
       "      <th>max_heart_rate</th>\n",
       "      <th>if</th>\n",
       "      <th>tss</th>\n",
       "      <th>distance_miles</th>\n",
       "      <th>miles_per_hour</th>\n",
       "      <th>mins_per_mile</th>\n",
       "      <th>month</th>\n",
       "      <th>week</th>\n",
       "    </tr>\n",
       "  </thead>\n",
       "  <tbody>\n",
       "    <tr>\n",
       "      <th>65</th>\n",
       "      <td>Run</td>\n",
       "      <td>2021-03-08</td>\n",
       "      <td>5009.850098</td>\n",
       "      <td>0.319142</td>\n",
       "      <td>175.0</td>\n",
       "      <td>180.0</td>\n",
       "      <td>1.154324</td>\n",
       "      <td>45.79</td>\n",
       "      <td>3.112977</td>\n",
       "      <td>9.754207</td>\n",
       "      <td>6.151192</td>\n",
       "      <td>4</td>\n",
       "      <td>14</td>\n",
       "    </tr>\n",
       "    <tr>\n",
       "      <th>39</th>\n",
       "      <td>Run</td>\n",
       "      <td>2021-01-31</td>\n",
       "      <td>5012.479980</td>\n",
       "      <td>0.319444</td>\n",
       "      <td>175.0</td>\n",
       "      <td>182.0</td>\n",
       "      <td>1.138292</td>\n",
       "      <td>44.56</td>\n",
       "      <td>3.114611</td>\n",
       "      <td>9.750112</td>\n",
       "      <td>6.153775</td>\n",
       "      <td>2</td>\n",
       "      <td>8</td>\n",
       "    </tr>\n",
       "    <tr>\n",
       "      <th>3</th>\n",
       "      <td>Run</td>\n",
       "      <td>2020-12-04</td>\n",
       "      <td>5016.410156</td>\n",
       "      <td>0.331941</td>\n",
       "      <td>170.0</td>\n",
       "      <td>179.0</td>\n",
       "      <td>1.114853</td>\n",
       "      <td>44.46</td>\n",
       "      <td>3.117053</td>\n",
       "      <td>9.390371</td>\n",
       "      <td>6.389524</td>\n",
       "      <td>1</td>\n",
       "      <td>1</td>\n",
       "    </tr>\n",
       "    <tr>\n",
       "      <th>55</th>\n",
       "      <td>Run</td>\n",
       "      <td>2021-02-25</td>\n",
       "      <td>5012.819824</td>\n",
       "      <td>0.332230</td>\n",
       "      <td>169.0</td>\n",
       "      <td>174.0</td>\n",
       "      <td>1.096351</td>\n",
       "      <td>43.07</td>\n",
       "      <td>3.114822</td>\n",
       "      <td>9.375507</td>\n",
       "      <td>6.399654</td>\n",
       "      <td>3</td>\n",
       "      <td>12</td>\n",
       "    </tr>\n",
       "    <tr>\n",
       "      <th>32</th>\n",
       "      <td>Run</td>\n",
       "      <td>2021-01-20</td>\n",
       "      <td>6446.529785</td>\n",
       "      <td>0.440789</td>\n",
       "      <td>172.0</td>\n",
       "      <td>180.0</td>\n",
       "      <td>1.056474</td>\n",
       "      <td>53.40</td>\n",
       "      <td>4.005688</td>\n",
       "      <td>9.087537</td>\n",
       "      <td>6.602449</td>\n",
       "      <td>2</td>\n",
       "      <td>7</td>\n",
       "    </tr>\n",
       "    <tr>\n",
       "      <th>21</th>\n",
       "      <td>Run</td>\n",
       "      <td>2020-12-30</td>\n",
       "      <td>10015.139648</td>\n",
       "      <td>0.694026</td>\n",
       "      <td>176.0</td>\n",
       "      <td>184.0</td>\n",
       "      <td>1.064699</td>\n",
       "      <td>86.34</td>\n",
       "      <td>6.223119</td>\n",
       "      <td>8.966701</td>\n",
       "      <td>6.691424</td>\n",
       "      <td>1</td>\n",
       "      <td>5</td>\n",
       "    </tr>\n",
       "    <tr>\n",
       "      <th>5</th>\n",
       "      <td>Run</td>\n",
       "      <td>2020-12-08</td>\n",
       "      <td>3157.300049</td>\n",
       "      <td>0.219709</td>\n",
       "      <td>166.0</td>\n",
       "      <td>173.0</td>\n",
       "      <td>1.059733</td>\n",
       "      <td>26.32</td>\n",
       "      <td>1.961855</td>\n",
       "      <td>8.929317</td>\n",
       "      <td>6.719439</td>\n",
       "      <td>1</td>\n",
       "      <td>2</td>\n",
       "    </tr>\n",
       "    <tr>\n",
       "      <th>30</th>\n",
       "      <td>Run</td>\n",
       "      <td>2021-01-16</td>\n",
       "      <td>10011.730469</td>\n",
       "      <td>0.704923</td>\n",
       "      <td>173.0</td>\n",
       "      <td>182.0</td>\n",
       "      <td>1.059122</td>\n",
       "      <td>86.84</td>\n",
       "      <td>6.221001</td>\n",
       "      <td>8.825074</td>\n",
       "      <td>6.798810</td>\n",
       "      <td>2</td>\n",
       "      <td>6</td>\n",
       "    </tr>\n",
       "    <tr>\n",
       "      <th>72</th>\n",
       "      <td>Run</td>\n",
       "      <td>2021-03-19</td>\n",
       "      <td>22539.099609</td>\n",
       "      <td>1.646059</td>\n",
       "      <td>NaN</td>\n",
       "      <td>NaN</td>\n",
       "      <td>1.001596</td>\n",
       "      <td>185.23</td>\n",
       "      <td>14.005147</td>\n",
       "      <td>8.508288</td>\n",
       "      <td>7.051947</td>\n",
       "      <td>4</td>\n",
       "      <td>15</td>\n",
       "    </tr>\n",
       "    <tr>\n",
       "      <th>45</th>\n",
       "      <td>Run</td>\n",
       "      <td>2021-02-07</td>\n",
       "      <td>11811.790039</td>\n",
       "      <td>0.940727</td>\n",
       "      <td>150.0</td>\n",
       "      <td>162.0</td>\n",
       "      <td>0.928111</td>\n",
       "      <td>89.64</td>\n",
       "      <td>7.339506</td>\n",
       "      <td>7.801952</td>\n",
       "      <td>7.690383</td>\n",
       "      <td>3</td>\n",
       "      <td>9</td>\n",
       "    </tr>\n",
       "  </tbody>\n",
       "</table>\n",
       "</div>"
      ],
      "text/plain": [
       "   workout_type workout_day  distance_meters  time_hours  avg_heart_rate  \\\n",
       "65          Run  2021-03-08      5009.850098    0.319142           175.0   \n",
       "39          Run  2021-01-31      5012.479980    0.319444           175.0   \n",
       "3           Run  2020-12-04      5016.410156    0.331941           170.0   \n",
       "55          Run  2021-02-25      5012.819824    0.332230           169.0   \n",
       "32          Run  2021-01-20      6446.529785    0.440789           172.0   \n",
       "21          Run  2020-12-30     10015.139648    0.694026           176.0   \n",
       "5           Run  2020-12-08      3157.300049    0.219709           166.0   \n",
       "30          Run  2021-01-16     10011.730469    0.704923           173.0   \n",
       "72          Run  2021-03-19     22539.099609    1.646059             NaN   \n",
       "45          Run  2021-02-07     11811.790039    0.940727           150.0   \n",
       "\n",
       "    max_heart_rate        if     tss  distance_miles  miles_per_hour  \\\n",
       "65           180.0  1.154324   45.79        3.112977        9.754207   \n",
       "39           182.0  1.138292   44.56        3.114611        9.750112   \n",
       "3            179.0  1.114853   44.46        3.117053        9.390371   \n",
       "55           174.0  1.096351   43.07        3.114822        9.375507   \n",
       "32           180.0  1.056474   53.40        4.005688        9.087537   \n",
       "21           184.0  1.064699   86.34        6.223119        8.966701   \n",
       "5            173.0  1.059733   26.32        1.961855        8.929317   \n",
       "30           182.0  1.059122   86.84        6.221001        8.825074   \n",
       "72             NaN  1.001596  185.23       14.005147        8.508288   \n",
       "45           162.0  0.928111   89.64        7.339506        7.801952   \n",
       "\n",
       "    mins_per_mile  month  week  \n",
       "65       6.151192      4    14  \n",
       "39       6.153775      2     8  \n",
       "3        6.389524      1     1  \n",
       "55       6.399654      3    12  \n",
       "32       6.602449      2     7  \n",
       "21       6.691424      1     5  \n",
       "5        6.719439      1     2  \n",
       "30       6.798810      2     6  \n",
       "72       7.051947      4    15  \n",
       "45       7.690383      3     9  "
      ]
     },
     "execution_count": 31,
     "metadata": {},
     "output_type": "execute_result"
    }
   ],
   "source": [
    "my_run_df.sort_values(\"miles_per_hour\", ascending=False)[:10]"
   ]
  },
  {
   "cell_type": "markdown",
   "metadata": {},
   "source": [
    "Best Times:\n",
    "- 5km: 19m08s\n",
    "- 10km: 41m33s\n",
    "- 14 miles: 1h39m\n",
    "\n",
    "This times were taken at various points, so may not be a geat indicator. Before modelling, I want to try and predict my marathon time based on how much these times vary as I increase the distance. The 14 mile run, was not flat out though but the 5/10km were. The 10km time was taken at week 5 though, so my fitness would of improved a lot by then.\n",
    "\n",
    "As you can see from the table above. The top row (index 65) and index 21 (10km), they have pretty much similar heart rate. This means my 5km time is probably not my true personal best. 5km is a VO2 max event, which I always struggle with but this could have an impact on the predictions. My threshold heartrate has always been around 175, so this is my one hour heart rate.\n"
   ]
  },
  {
   "cell_type": "code",
   "execution_count": 32,
   "metadata": {},
   "outputs": [
    {
     "name": "stdout",
     "output_type": "stream",
     "text": [
      "Difference from 5km to 10km is 8.73%\n"
     ]
    }
   ],
   "source": [
    "best_5km = 0.319142\n",
    "best_10km = 0.694026 \n",
    "best_14_mile = 1.646059\n",
    "\n",
    "#Let's start by doubling the 5km time and seeing the difference \n",
    "new_5km = best_5km * 2\n",
    "difference = round(best_10km / new_5km * 100 - 100, 2)\n",
    "print(\"Difference from 5km to 10km is {}%\".format(difference))"
   ]
  },
  {
   "cell_type": "code",
   "execution_count": 33,
   "metadata": {},
   "outputs": [
    {
     "name": "stdout",
     "output_type": "stream",
     "text": [
      "Difference is 10km to 14 miles is 18.59%\n"
     ]
    }
   ],
   "source": [
    "new_10km = best_10km * 2\n",
    "difference_10km_to_14_miles = round(best_14_mile / new_10km * 100 - 100, 2)\n",
    "print(\"Difference is 10km to 14 miles is {}%\".format(difference_10km_to_14_miles))"
   ]
  },
  {
   "cell_type": "markdown",
   "metadata": {},
   "source": [
    "As expected the decrease in performance becomes greater the further distance ran. As mentioned earlier, the 14 miles was not flat out and was \"comfortable-ish\". Also, the plan was only to run about 7/8 miles that day. My body is built better for endurance than speed, so I will get the decrease at around 20% in performance from half marathon to marathon. Now we can see a possible marathon time based on my previous 14 mile run."
   ]
  },
  {
   "cell_type": "code",
   "execution_count": 34,
   "metadata": {},
   "outputs": [
    {
     "name": "stdout",
     "output_type": "stream",
     "text": [
      "3.9505415999999998\n"
     ]
    }
   ],
   "source": [
    "marathon_preidction = best_14_mile * 2 * 1.20\n",
    "print(marathon_preidction)"
   ]
  },
  {
   "cell_type": "markdown",
   "metadata": {},
   "source": [
    "I haven't been training for a marathon and have only done 2 runs over 10 miles. So at my current fitness level, this could be a pretty realistic prediction. Let's now model the previous marathon data and see what the model predicts my results to be based on my best block and most recent block."
   ]
  },
  {
   "cell_type": "code",
   "execution_count": 35,
   "metadata": {},
   "outputs": [],
   "source": [
    "week_6 = my_run_df[my_run_df[\"week\"] == 6]\n",
    "week_7 = my_run_df[my_run_df[\"week\"] == 7]\n",
    "week_8 = my_run_df[my_run_df[\"week\"] == 8]\n",
    "week_9 = my_run_df[my_run_df[\"week\"] == 9]\n",
    "\n",
    "my_best_block_df = pd.concat([week_6, week_7, week_8, week_9])\n"
   ]
  },
  {
   "cell_type": "code",
   "execution_count": 36,
   "metadata": {},
   "outputs": [],
   "source": [
    "total_time_best_block = my_best_block_df[\"time_hours\"].sum()"
   ]
  },
  {
   "cell_type": "code",
   "execution_count": 37,
   "metadata": {},
   "outputs": [],
   "source": [
    "total_miles_best_block = my_best_block_df[\"distance_miles\"].sum()"
   ]
  },
  {
   "cell_type": "code",
   "execution_count": 38,
   "metadata": {},
   "outputs": [
    {
     "name": "stdout",
     "output_type": "stream",
     "text": [
      "Total miles for best 4 week block: 129.2832934651203\n",
      "Average weekly miles for best 4 week block: 32.320823366280074\n",
      "-----------------------------------------------------------\n",
      "Total hours for best 4 week block: 17.525812089443207\n",
      "Average weekly hours for best 4 week block: 4.381453022360802\n"
     ]
    }
   ],
   "source": [
    "print(\"Total miles for best 4 week block: {}\".format(total_miles_best_block))\n",
    "print(\"Average weekly miles for best 4 week block: {}\".format(total_miles_best_block / 4))\n",
    "print(\"-----------------------------------------------------------\")\n",
    "print(\"Total hours for best 4 week block: {}\".format(total_time_best_block))\n",
    "print(\"Average weekly hours for best 4 week block: {}\".format(total_time_best_block / 4))"
   ]
  },
  {
   "cell_type": "code",
   "execution_count": 39,
   "metadata": {},
   "outputs": [
    {
     "name": "stdout",
     "output_type": "stream",
     "text": [
      "Miles per hour for best block: 7.505085055206308\n"
     ]
    }
   ],
   "source": [
    "miles_per_hour_best_block = my_best_block_df[\"miles_per_hour\"].mean()\n",
    "print(\"Miles per hour for best block: {}\".format(miles_per_hour_best_block))"
   ]
  },
  {
   "cell_type": "code",
   "execution_count": 40,
   "metadata": {},
   "outputs": [
    {
     "name": "stdout",
     "output_type": "stream",
     "text": [
      "Minutes per mile for best block: 8.07960403809552\n"
     ]
    }
   ],
   "source": [
    "min_per_mile_best_block = my_best_block_df[\"mins_per_mile\"].mean()\n",
    "print(\"Minutes per mile for best block: {}\".format(min_per_mile_best_block))"
   ]
  },
  {
   "cell_type": "markdown",
   "metadata": {},
   "source": [
    "# Modelling\n",
    "\n",
    "Bayes and logstic regression will be used for the modelling. There isn't much data, so only the category will be predicted my best training block."
   ]
  },
  {
   "cell_type": "code",
   "execution_count": 41,
   "metadata": {},
   "outputs": [
    {
     "data": {
      "text/html": [
       "<div>\n",
       "<style scoped>\n",
       "    .dataframe tbody tr th:only-of-type {\n",
       "        vertical-align: middle;\n",
       "    }\n",
       "\n",
       "    .dataframe tbody tr th {\n",
       "        vertical-align: top;\n",
       "    }\n",
       "\n",
       "    .dataframe thead th {\n",
       "        text-align: right;\n",
       "    }\n",
       "</style>\n",
       "<table border=\"1\" class=\"dataframe\">\n",
       "  <thead>\n",
       "    <tr style=\"text-align: right;\">\n",
       "      <th></th>\n",
       "      <th>Unnamed: 0</th>\n",
       "      <th>id</th>\n",
       "      <th>km4week</th>\n",
       "      <th>sp4week</th>\n",
       "      <th>MarathonTime</th>\n",
       "      <th>CATEGORY</th>\n",
       "      <th>miles_per_week</th>\n",
       "      <th>miles_per_hour</th>\n",
       "      <th>mins_per_mile</th>\n",
       "    </tr>\n",
       "  </thead>\n",
       "  <tbody>\n",
       "    <tr>\n",
       "      <th>0</th>\n",
       "      <td>0</td>\n",
       "      <td>1</td>\n",
       "      <td>132.8</td>\n",
       "      <td>14.434783</td>\n",
       "      <td>2.37</td>\n",
       "      <td>A</td>\n",
       "      <td>82.518095</td>\n",
       "      <td>8.969358</td>\n",
       "      <td>6.689442</td>\n",
       "    </tr>\n",
       "    <tr>\n",
       "      <th>1</th>\n",
       "      <td>1</td>\n",
       "      <td>2</td>\n",
       "      <td>68.6</td>\n",
       "      <td>13.674419</td>\n",
       "      <td>2.59</td>\n",
       "      <td>A</td>\n",
       "      <td>42.626064</td>\n",
       "      <td>8.496890</td>\n",
       "      <td>7.061407</td>\n",
       "    </tr>\n",
       "    <tr>\n",
       "      <th>2</th>\n",
       "      <td>2</td>\n",
       "      <td>3</td>\n",
       "      <td>82.7</td>\n",
       "      <td>13.520436</td>\n",
       "      <td>2.66</td>\n",
       "      <td>A</td>\n",
       "      <td>51.387398</td>\n",
       "      <td>8.401210</td>\n",
       "      <td>7.141829</td>\n",
       "    </tr>\n",
       "    <tr>\n",
       "      <th>3</th>\n",
       "      <td>3</td>\n",
       "      <td>4</td>\n",
       "      <td>137.5</td>\n",
       "      <td>12.258544</td>\n",
       "      <td>2.68</td>\n",
       "      <td>A</td>\n",
       "      <td>85.438540</td>\n",
       "      <td>7.617106</td>\n",
       "      <td>7.877007</td>\n",
       "    </tr>\n",
       "    <tr>\n",
       "      <th>4</th>\n",
       "      <td>4</td>\n",
       "      <td>5</td>\n",
       "      <td>84.6</td>\n",
       "      <td>13.945055</td>\n",
       "      <td>2.74</td>\n",
       "      <td>A</td>\n",
       "      <td>52.568004</td>\n",
       "      <td>8.665056</td>\n",
       "      <td>6.924364</td>\n",
       "    </tr>\n",
       "  </tbody>\n",
       "</table>\n",
       "</div>"
      ],
      "text/plain": [
       "   Unnamed: 0  id  km4week    sp4week  MarathonTime CATEGORY  miles_per_week  \\\n",
       "0           0   1    132.8  14.434783          2.37        A       82.518095   \n",
       "1           1   2     68.6  13.674419          2.59        A       42.626064   \n",
       "2           2   3     82.7  13.520436          2.66        A       51.387398   \n",
       "3           3   4    137.5  12.258544          2.68        A       85.438540   \n",
       "4           4   5     84.6  13.945055          2.74        A       52.568004   \n",
       "\n",
       "   miles_per_hour  mins_per_mile  \n",
       "0        8.969358       6.689442  \n",
       "1        8.496890       7.061407  \n",
       "2        8.401210       7.141829  \n",
       "3        7.617106       7.877007  \n",
       "4        8.665056       6.924364  "
      ]
     },
     "execution_count": 41,
     "metadata": {},
     "output_type": "execute_result"
    }
   ],
   "source": [
    "df.head()"
   ]
  },
  {
   "cell_type": "markdown",
   "metadata": {},
   "source": [
    "The category column will be predicted in the logistic model, so the string will need to be converted into binary. New categories are shown below."
   ]
  },
  {
   "cell_type": "code",
   "execution_count": 42,
   "metadata": {},
   "outputs": [],
   "source": [
    "category_to_binary = {\"A\": 1, \"B\": 2, \"C\": 3, \"D\":4}"
   ]
  },
  {
   "cell_type": "code",
   "execution_count": 43,
   "metadata": {},
   "outputs": [],
   "source": [
    "df[\"CATEGORY\"] = df[\"CATEGORY\"].replace(category_to_binary)"
   ]
  },
  {
   "cell_type": "code",
   "execution_count": 77,
   "metadata": {},
   "outputs": [],
   "source": [
    "x = df[[\"miles_per_week\", \"miles_per_hour\"]]\n",
    "y = df[\"CATEGORY\"]"
   ]
  },
  {
   "cell_type": "markdown",
   "metadata": {},
   "source": [
    "# Bayes Model"
   ]
  },
  {
   "cell_type": "code",
   "execution_count": 78,
   "metadata": {},
   "outputs": [],
   "source": [
    "bayes = GaussianNB()\n",
    "cross_val = cross_val_score(bayes, x, y, cv=5)"
   ]
  },
  {
   "cell_type": "code",
   "execution_count": 79,
   "metadata": {},
   "outputs": [
    {
     "data": {
      "text/plain": [
       "0.5"
      ]
     },
     "execution_count": 79,
     "metadata": {},
     "output_type": "execute_result"
    }
   ],
   "source": [
    "cross_val.mean().round(2)"
   ]
  },
  {
   "cell_type": "markdown",
   "metadata": {},
   "source": [
    "Bayes has a pretty low accuracy of 50% when tested with cross validation. There isn't much data, so the model wasn't expected to perform too well."
   ]
  },
  {
   "cell_type": "code",
   "execution_count": 80,
   "metadata": {},
   "outputs": [
    {
     "data": {
      "text/plain": [
       "GaussianNB()"
      ]
     },
     "execution_count": 80,
     "metadata": {},
     "output_type": "execute_result"
    }
   ],
   "source": [
    "bayes.fit(x, y)"
   ]
  },
  {
   "cell_type": "code",
   "execution_count": 136,
   "metadata": {},
   "outputs": [],
   "source": [
    "#My best training times\n",
    "predict = bayes.predict(np.array([32.32, 7.51]).reshape(1,-1))"
   ]
  },
  {
   "cell_type": "code",
   "execution_count": 148,
   "metadata": {},
   "outputs": [
    {
     "data": {
      "text/plain": [
       "2"
      ]
     },
     "execution_count": 148,
     "metadata": {},
     "output_type": "execute_result"
    }
   ],
   "source": [
    "predict[0]"
   ]
  },
  {
   "cell_type": "code",
   "execution_count": 145,
   "metadata": {},
   "outputs": [],
   "source": [
    "#Random input\n",
    "predict_100 = bayes.predict(np.array([100, 7.51]).reshape(1,-1))"
   ]
  },
  {
   "cell_type": "code",
   "execution_count": 147,
   "metadata": {},
   "outputs": [
    {
     "data": {
      "text/plain": [
       "1"
      ]
     },
     "execution_count": 147,
     "metadata": {},
     "output_type": "execute_result"
    }
   ],
   "source": [
    "predict_100[0]"
   ]
  },
  {
   "cell_type": "markdown",
   "metadata": {},
   "source": [
    "From the two results above, the prediction for my best block is category 2, which is B. That is 3:00-3:20 category. The random input was 100 weekly miles to check to see if the model would predict the best category.\n",
    "\n",
    "# Logistic Regression Model"
   ]
  },
  {
   "cell_type": "code",
   "execution_count": 128,
   "metadata": {},
   "outputs": [],
   "source": [
    "log = LogisticRegression()"
   ]
  },
  {
   "cell_type": "code",
   "execution_count": 130,
   "metadata": {},
   "outputs": [
    {
     "data": {
      "text/plain": [
       "LogisticRegression()"
      ]
     },
     "execution_count": 130,
     "metadata": {},
     "output_type": "execute_result"
    }
   ],
   "source": [
    "log.fit(x, y)"
   ]
  },
  {
   "cell_type": "code",
   "execution_count": 141,
   "metadata": {},
   "outputs": [
    {
     "data": {
      "text/plain": [
       "2"
      ]
     },
     "execution_count": 141,
     "metadata": {},
     "output_type": "execute_result"
    }
   ],
   "source": [
    "log_predict = log.predict(np.array([32.32, 7.51]).reshape(1,-1))\n",
    "log_predict[0]"
   ]
  },
  {
   "cell_type": "markdown",
   "metadata": {},
   "source": [
    "Both models are predicting the same category based on my best training block. The calculations I made in the running exploration notebook were:\n",
    "- Miles needed per week: 41.0\n",
    "- Min per mile 8.25"
   ]
  },
  {
   "cell_type": "code",
   "execution_count": 155,
   "metadata": {},
   "outputs": [
    {
     "data": {
      "text/plain": [
       "7.2727272727272725"
      ]
     },
     "execution_count": 155,
     "metadata": {},
     "output_type": "execute_result"
    }
   ],
   "source": [
    "new_miles_per_hour = 60 / 8.25\n",
    "new_miles_per_hour"
   ]
  },
  {
   "cell_type": "code",
   "execution_count": 157,
   "metadata": {},
   "outputs": [
    {
     "data": {
      "text/plain": [
       "2"
      ]
     },
     "execution_count": 157,
     "metadata": {},
     "output_type": "execute_result"
    }
   ],
   "source": [
    "log_predict_estimate = log.predict(np.array([41, new_miles_per_hour]).reshape(1,-1))\n",
    "log_predict_estimate[0]"
   ]
  },
  {
   "cell_type": "code",
   "execution_count": 158,
   "metadata": {},
   "outputs": [
    {
     "data": {
      "text/plain": [
       "2"
      ]
     },
     "execution_count": 158,
     "metadata": {},
     "output_type": "execute_result"
    }
   ],
   "source": [
    "bayes_predict_estimate = bayes.predict(np.array([41, new_miles_per_hour]).reshape(1,-1))\n",
    "bayes_predict_estimate[0]"
   ]
  },
  {
   "cell_type": "code",
   "execution_count": 159,
   "metadata": {},
   "outputs": [
    {
     "data": {
      "text/plain": [
       "2"
      ]
     },
     "execution_count": 159,
     "metadata": {},
     "output_type": "execute_result"
    }
   ],
   "source": [
    "log_predict_estimate = log.predict(np.array([50, new_miles_per_hour]).reshape(1,-1))\n",
    "log_predict_estimate[0]"
   ]
  },
  {
   "cell_type": "code",
   "execution_count": 162,
   "metadata": {},
   "outputs": [
    {
     "data": {
      "text/plain": [
       "1"
      ]
     },
     "execution_count": 162,
     "metadata": {},
     "output_type": "execute_result"
    }
   ],
   "source": [
    "log_predict_estimate = log.predict(np.array([70, new_miles_per_hour]).reshape(1,-1))\n",
    "log_predict_estimate[0]"
   ]
  },
  {
   "cell_type": "markdown",
   "metadata": {},
   "source": [
    "For 41 miles per week and 8.25 min per mile pace the models are still predicting category 2. The model predicted around 70 miles at this pace would be needed. However, there wasn't much data for the modelling. I think with my current base fitness, I would probably want at least a solid 2 months of 40-55 mile a week training in order to get sub 3 hours."
   ]
  }
 ],
 "metadata": {
  "kernelspec": {
   "display_name": "Python 3",
   "language": "python",
   "name": "python3"
  },
  "language_info": {
   "codemirror_mode": {
    "name": "ipython",
    "version": 3
   },
   "file_extension": ".py",
   "mimetype": "text/x-python",
   "name": "python",
   "nbconvert_exporter": "python",
   "pygments_lexer": "ipython3",
   "version": "3.8.5"
  }
 },
 "nbformat": 4,
 "nbformat_minor": 4
}
