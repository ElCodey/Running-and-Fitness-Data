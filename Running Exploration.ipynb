{
 "cells": [
  {
   "cell_type": "markdown",
   "metadata": {},
   "source": [
    "# Marathon Training Data Exploration"
   ]
  },
  {
   "cell_type": "code",
   "execution_count": 1,
   "metadata": {},
   "outputs": [],
   "source": [
    "import pandas as pd\n",
    "import matplotlib.pyplot as plt\n",
    "import seaborn as sns\n",
    "\n",
    "%matplotlib inline"
   ]
  },
  {
   "cell_type": "code",
   "execution_count": 2,
   "metadata": {},
   "outputs": [],
   "source": [
    "df = pd.read_csv(\"MarathonData.csv\")"
   ]
  },
  {
   "cell_type": "code",
   "execution_count": 3,
   "metadata": {},
   "outputs": [
    {
     "data": {
      "text/html": [
       "<div>\n",
       "<style scoped>\n",
       "    .dataframe tbody tr th:only-of-type {\n",
       "        vertical-align: middle;\n",
       "    }\n",
       "\n",
       "    .dataframe tbody tr th {\n",
       "        vertical-align: top;\n",
       "    }\n",
       "\n",
       "    .dataframe thead th {\n",
       "        text-align: right;\n",
       "    }\n",
       "</style>\n",
       "<table border=\"1\" class=\"dataframe\">\n",
       "  <thead>\n",
       "    <tr style=\"text-align: right;\">\n",
       "      <th></th>\n",
       "      <th>id</th>\n",
       "      <th>Marathon</th>\n",
       "      <th>Name</th>\n",
       "      <th>Category</th>\n",
       "      <th>km4week</th>\n",
       "      <th>sp4week</th>\n",
       "      <th>CrossTraining</th>\n",
       "      <th>Wall21</th>\n",
       "      <th>MarathonTime</th>\n",
       "      <th>CATEGORY</th>\n",
       "    </tr>\n",
       "  </thead>\n",
       "  <tbody>\n",
       "    <tr>\n",
       "      <th>0</th>\n",
       "      <td>1</td>\n",
       "      <td>Prague17</td>\n",
       "      <td>Blair MORGAN</td>\n",
       "      <td>MAM</td>\n",
       "      <td>132.8</td>\n",
       "      <td>14.434783</td>\n",
       "      <td>NaN</td>\n",
       "      <td>1.16</td>\n",
       "      <td>2.37</td>\n",
       "      <td>A</td>\n",
       "    </tr>\n",
       "    <tr>\n",
       "      <th>1</th>\n",
       "      <td>2</td>\n",
       "      <td>Prague17</td>\n",
       "      <td>Robert Heczko</td>\n",
       "      <td>MAM</td>\n",
       "      <td>68.6</td>\n",
       "      <td>13.674419</td>\n",
       "      <td>NaN</td>\n",
       "      <td>1.23</td>\n",
       "      <td>2.59</td>\n",
       "      <td>A</td>\n",
       "    </tr>\n",
       "    <tr>\n",
       "      <th>2</th>\n",
       "      <td>3</td>\n",
       "      <td>Prague17</td>\n",
       "      <td>Michon Jerome</td>\n",
       "      <td>MAM</td>\n",
       "      <td>82.7</td>\n",
       "      <td>13.520436</td>\n",
       "      <td>NaN</td>\n",
       "      <td>1.30</td>\n",
       "      <td>2.66</td>\n",
       "      <td>A</td>\n",
       "    </tr>\n",
       "    <tr>\n",
       "      <th>3</th>\n",
       "      <td>4</td>\n",
       "      <td>Prague17</td>\n",
       "      <td>Daniel Or lek</td>\n",
       "      <td>M45</td>\n",
       "      <td>137.5</td>\n",
       "      <td>12.258544</td>\n",
       "      <td>NaN</td>\n",
       "      <td>1.32</td>\n",
       "      <td>2.68</td>\n",
       "      <td>A</td>\n",
       "    </tr>\n",
       "    <tr>\n",
       "      <th>4</th>\n",
       "      <td>5</td>\n",
       "      <td>Prague17</td>\n",
       "      <td>Luk ? Mr zek</td>\n",
       "      <td>MAM</td>\n",
       "      <td>84.6</td>\n",
       "      <td>13.945055</td>\n",
       "      <td>NaN</td>\n",
       "      <td>1.36</td>\n",
       "      <td>2.74</td>\n",
       "      <td>A</td>\n",
       "    </tr>\n",
       "  </tbody>\n",
       "</table>\n",
       "</div>"
      ],
      "text/plain": [
       "   id  Marathon           Name Category  km4week    sp4week CrossTraining  \\\n",
       "0   1  Prague17   Blair MORGAN      MAM    132.8  14.434783           NaN   \n",
       "1   2  Prague17  Robert Heczko      MAM     68.6  13.674419           NaN   \n",
       "2   3  Prague17  Michon Jerome      MAM     82.7  13.520436           NaN   \n",
       "3   4  Prague17  Daniel Or lek      M45    137.5  12.258544           NaN   \n",
       "4   5  Prague17   Luk ? Mr zek      MAM     84.6  13.945055           NaN   \n",
       "\n",
       "  Wall21  MarathonTime CATEGORY  \n",
       "0   1.16          2.37        A  \n",
       "1   1.23          2.59        A  \n",
       "2   1.30          2.66        A  \n",
       "3   1.32          2.68        A  \n",
       "4   1.36          2.74        A  "
      ]
     },
     "execution_count": 3,
     "metadata": {},
     "output_type": "execute_result"
    }
   ],
   "source": [
    "df.head(5)"
   ]
  },
  {
   "cell_type": "markdown",
   "metadata": {},
   "source": [
    "Will be converting the km data to miles per week and the speed will be converted to minute per mile."
   ]
  },
  {
   "cell_type": "code",
   "execution_count": 4,
   "metadata": {},
   "outputs": [],
   "source": [
    "df[\"miles_per_week\"] = df[\"km4week\"] * 0.6213712\n",
    "df[\"miles_per_hour\"] = df[\"sp4week\"] * 0.6213712\n",
    "df[\"mins_per_mile\"] = 60 / df[\"miles_per_hour\"] \n",
    "\n",
    "df.drop(columns=[\"Marathon\", \"Name\", \"Category\", \"CrossTraining\", \"Wall21\"], inplace=True)"
   ]
  },
  {
   "cell_type": "code",
   "execution_count": 5,
   "metadata": {},
   "outputs": [
    {
     "data": {
      "text/html": [
       "<div>\n",
       "<style scoped>\n",
       "    .dataframe tbody tr th:only-of-type {\n",
       "        vertical-align: middle;\n",
       "    }\n",
       "\n",
       "    .dataframe tbody tr th {\n",
       "        vertical-align: top;\n",
       "    }\n",
       "\n",
       "    .dataframe thead th {\n",
       "        text-align: right;\n",
       "    }\n",
       "</style>\n",
       "<table border=\"1\" class=\"dataframe\">\n",
       "  <thead>\n",
       "    <tr style=\"text-align: right;\">\n",
       "      <th></th>\n",
       "      <th>id</th>\n",
       "      <th>km4week</th>\n",
       "      <th>sp4week</th>\n",
       "      <th>MarathonTime</th>\n",
       "      <th>CATEGORY</th>\n",
       "      <th>miles_per_week</th>\n",
       "      <th>miles_per_hour</th>\n",
       "      <th>mins_per_mile</th>\n",
       "    </tr>\n",
       "  </thead>\n",
       "  <tbody>\n",
       "    <tr>\n",
       "      <th>0</th>\n",
       "      <td>1</td>\n",
       "      <td>132.8</td>\n",
       "      <td>14.434783</td>\n",
       "      <td>2.37</td>\n",
       "      <td>A</td>\n",
       "      <td>82.518095</td>\n",
       "      <td>8.969358</td>\n",
       "      <td>6.689442</td>\n",
       "    </tr>\n",
       "    <tr>\n",
       "      <th>1</th>\n",
       "      <td>2</td>\n",
       "      <td>68.6</td>\n",
       "      <td>13.674419</td>\n",
       "      <td>2.59</td>\n",
       "      <td>A</td>\n",
       "      <td>42.626064</td>\n",
       "      <td>8.496890</td>\n",
       "      <td>7.061407</td>\n",
       "    </tr>\n",
       "    <tr>\n",
       "      <th>2</th>\n",
       "      <td>3</td>\n",
       "      <td>82.7</td>\n",
       "      <td>13.520436</td>\n",
       "      <td>2.66</td>\n",
       "      <td>A</td>\n",
       "      <td>51.387398</td>\n",
       "      <td>8.401210</td>\n",
       "      <td>7.141829</td>\n",
       "    </tr>\n",
       "    <tr>\n",
       "      <th>3</th>\n",
       "      <td>4</td>\n",
       "      <td>137.5</td>\n",
       "      <td>12.258544</td>\n",
       "      <td>2.68</td>\n",
       "      <td>A</td>\n",
       "      <td>85.438540</td>\n",
       "      <td>7.617106</td>\n",
       "      <td>7.877007</td>\n",
       "    </tr>\n",
       "    <tr>\n",
       "      <th>4</th>\n",
       "      <td>5</td>\n",
       "      <td>84.6</td>\n",
       "      <td>13.945055</td>\n",
       "      <td>2.74</td>\n",
       "      <td>A</td>\n",
       "      <td>52.568004</td>\n",
       "      <td>8.665056</td>\n",
       "      <td>6.924364</td>\n",
       "    </tr>\n",
       "  </tbody>\n",
       "</table>\n",
       "</div>"
      ],
      "text/plain": [
       "   id  km4week    sp4week  MarathonTime CATEGORY  miles_per_week  \\\n",
       "0   1    132.8  14.434783          2.37        A       82.518095   \n",
       "1   2     68.6  13.674419          2.59        A       42.626064   \n",
       "2   3     82.7  13.520436          2.66        A       51.387398   \n",
       "3   4    137.5  12.258544          2.68        A       85.438540   \n",
       "4   5     84.6  13.945055          2.74        A       52.568004   \n",
       "\n",
       "   miles_per_hour  mins_per_mile  \n",
       "0        8.969358       6.689442  \n",
       "1        8.496890       7.061407  \n",
       "2        8.401210       7.141829  \n",
       "3        7.617106       7.877007  \n",
       "4        8.665056       6.924364  "
      ]
     },
     "execution_count": 5,
     "metadata": {},
     "output_type": "execute_result"
    }
   ],
   "source": [
    "df.head()"
   ]
  },
  {
   "cell_type": "markdown",
   "metadata": {},
   "source": [
    "Category fields are:\n",
    "\n",
    "- A results under 3h\n",
    "- B results between 3h and 3h20m\n",
    "- C results between 3h20m and 3h40m\n",
    "- D results between 3h40 and 4h\n"
   ]
  },
  {
   "cell_type": "code",
   "execution_count": 6,
   "metadata": {},
   "outputs": [
    {
     "data": {
      "text/plain": [
       "B    28\n",
       "A    21\n",
       "C    21\n",
       "D    17\n",
       "Name: CATEGORY, dtype: int64"
      ]
     },
     "execution_count": 6,
     "metadata": {},
     "output_type": "execute_result"
    }
   ],
   "source": [
    "df[\"CATEGORY\"].value_counts()"
   ]
  },
  {
   "cell_type": "code",
   "execution_count": 7,
   "metadata": {},
   "outputs": [
    {
     "data": {
      "text/html": [
       "<div>\n",
       "<style scoped>\n",
       "    .dataframe tbody tr th:only-of-type {\n",
       "        vertical-align: middle;\n",
       "    }\n",
       "\n",
       "    .dataframe tbody tr th {\n",
       "        vertical-align: top;\n",
       "    }\n",
       "\n",
       "    .dataframe thead th {\n",
       "        text-align: right;\n",
       "    }\n",
       "</style>\n",
       "<table border=\"1\" class=\"dataframe\">\n",
       "  <thead>\n",
       "    <tr style=\"text-align: right;\">\n",
       "      <th></th>\n",
       "      <th>id</th>\n",
       "      <th>km4week</th>\n",
       "      <th>sp4week</th>\n",
       "      <th>MarathonTime</th>\n",
       "      <th>miles_per_week</th>\n",
       "      <th>miles_per_hour</th>\n",
       "      <th>mins_per_mile</th>\n",
       "    </tr>\n",
       "  </thead>\n",
       "  <tbody>\n",
       "    <tr>\n",
       "      <th>id</th>\n",
       "      <td>1.000000</td>\n",
       "      <td>-0.599675</td>\n",
       "      <td>0.162553</td>\n",
       "      <td>0.991548</td>\n",
       "      <td>-0.599675</td>\n",
       "      <td>0.162553</td>\n",
       "      <td>0.267246</td>\n",
       "    </tr>\n",
       "    <tr>\n",
       "      <th>km4week</th>\n",
       "      <td>-0.599675</td>\n",
       "      <td>1.000000</td>\n",
       "      <td>-0.107429</td>\n",
       "      <td>-0.606782</td>\n",
       "      <td>1.000000</td>\n",
       "      <td>-0.107429</td>\n",
       "      <td>-0.040159</td>\n",
       "    </tr>\n",
       "    <tr>\n",
       "      <th>sp4week</th>\n",
       "      <td>0.162553</td>\n",
       "      <td>-0.107429</td>\n",
       "      <td>1.000000</td>\n",
       "      <td>0.172294</td>\n",
       "      <td>-0.107429</td>\n",
       "      <td>1.000000</td>\n",
       "      <td>-0.697463</td>\n",
       "    </tr>\n",
       "    <tr>\n",
       "      <th>MarathonTime</th>\n",
       "      <td>0.991548</td>\n",
       "      <td>-0.606782</td>\n",
       "      <td>0.172294</td>\n",
       "      <td>1.000000</td>\n",
       "      <td>-0.606782</td>\n",
       "      <td>0.172294</td>\n",
       "      <td>0.259933</td>\n",
       "    </tr>\n",
       "    <tr>\n",
       "      <th>miles_per_week</th>\n",
       "      <td>-0.599675</td>\n",
       "      <td>1.000000</td>\n",
       "      <td>-0.107429</td>\n",
       "      <td>-0.606782</td>\n",
       "      <td>1.000000</td>\n",
       "      <td>-0.107429</td>\n",
       "      <td>-0.040159</td>\n",
       "    </tr>\n",
       "    <tr>\n",
       "      <th>miles_per_hour</th>\n",
       "      <td>0.162553</td>\n",
       "      <td>-0.107429</td>\n",
       "      <td>1.000000</td>\n",
       "      <td>0.172294</td>\n",
       "      <td>-0.107429</td>\n",
       "      <td>1.000000</td>\n",
       "      <td>-0.697463</td>\n",
       "    </tr>\n",
       "    <tr>\n",
       "      <th>mins_per_mile</th>\n",
       "      <td>0.267246</td>\n",
       "      <td>-0.040159</td>\n",
       "      <td>-0.697463</td>\n",
       "      <td>0.259933</td>\n",
       "      <td>-0.040159</td>\n",
       "      <td>-0.697463</td>\n",
       "      <td>1.000000</td>\n",
       "    </tr>\n",
       "  </tbody>\n",
       "</table>\n",
       "</div>"
      ],
      "text/plain": [
       "                      id   km4week   sp4week  MarathonTime  miles_per_week  \\\n",
       "id              1.000000 -0.599675  0.162553      0.991548       -0.599675   \n",
       "km4week        -0.599675  1.000000 -0.107429     -0.606782        1.000000   \n",
       "sp4week         0.162553 -0.107429  1.000000      0.172294       -0.107429   \n",
       "MarathonTime    0.991548 -0.606782  0.172294      1.000000       -0.606782   \n",
       "miles_per_week -0.599675  1.000000 -0.107429     -0.606782        1.000000   \n",
       "miles_per_hour  0.162553 -0.107429  1.000000      0.172294       -0.107429   \n",
       "mins_per_mile   0.267246 -0.040159 -0.697463      0.259933       -0.040159   \n",
       "\n",
       "                miles_per_hour  mins_per_mile  \n",
       "id                    0.162553       0.267246  \n",
       "km4week              -0.107429      -0.040159  \n",
       "sp4week               1.000000      -0.697463  \n",
       "MarathonTime          0.172294       0.259933  \n",
       "miles_per_week       -0.107429      -0.040159  \n",
       "miles_per_hour        1.000000      -0.697463  \n",
       "mins_per_mile        -0.697463       1.000000  "
      ]
     },
     "execution_count": 7,
     "metadata": {},
     "output_type": "execute_result"
    }
   ],
   "source": [
    "df.corr()"
   ]
  },
  {
   "cell_type": "code",
   "execution_count": 8,
   "metadata": {},
   "outputs": [
    {
     "data": {
      "image/png": "[encoded data removed]",
      "text/plain": [
       "<Figure size 432x288 with 1 Axes>"
      ]
     },
     "metadata": {
      "needs_background": "light"
     },
     "output_type": "display_data"
    }
   ],
   "source": [
    "plt.scatter(df[\"miles_per_week\"], df[\"MarathonTime\"]);\n",
    "plt.title(\"Miles per Week and Marathon Times\")\n",
    "plt.ylabel(\"Marathon Time\")\n",
    "plt.xlabel(\"Miles\");"
   ]
  },
  {
   "cell_type": "code",
   "execution_count": 9,
   "metadata": {},
   "outputs": [
    {
     "data": {
      "image/png": "[encoded data removed]",
      "text/plain": [
       "<Figure size 432x288 with 1 Axes>"
      ]
     },
     "metadata": {
      "needs_background": "light"
     },
     "output_type": "display_data"
    }
   ],
   "source": [
    "plt.scatter(df[\"mins_per_mile\"], df[\"MarathonTime\"]);\n",
    "plt.title(\"Mins per Mile and Marathon Times\")\n",
    "plt.xlabel(\"Minutes per Mile\")\n",
    "plt.ylabel(\"Marathon Time\");"
   ]
  },
  {
   "cell_type": "markdown",
   "metadata": {},
   "source": [
    "From the scatter plot above, we can see 3 clear outliers. On the left, it seems like the speed data has not recorded and the right, there are 2 atheletes with around 11/12 min per miles. The median pace for category D will be used for the left outlier. The two points on the left may come from warm up and warm down speed. So that can include walking in the run. This means it will also include the \"possible\" walkiing miles, but the data will be left and a bayes will be used to predict categories, which is not impacted by outliers."
   ]
  },
  {
   "cell_type": "code",
   "execution_count": 10,
   "metadata": {},
   "outputs": [
    {
     "data": {
      "text/html": [
       "<div>\n",
       "<style scoped>\n",
       "    .dataframe tbody tr th:only-of-type {\n",
       "        vertical-align: middle;\n",
       "    }\n",
       "\n",
       "    .dataframe tbody tr th {\n",
       "        vertical-align: top;\n",
       "    }\n",
       "\n",
       "    .dataframe thead th {\n",
       "        text-align: right;\n",
       "    }\n",
       "</style>\n",
       "<table border=\"1\" class=\"dataframe\">\n",
       "  <thead>\n",
       "    <tr style=\"text-align: right;\">\n",
       "      <th></th>\n",
       "      <th>id</th>\n",
       "      <th>km4week</th>\n",
       "      <th>sp4week</th>\n",
       "      <th>MarathonTime</th>\n",
       "      <th>CATEGORY</th>\n",
       "      <th>miles_per_week</th>\n",
       "      <th>miles_per_hour</th>\n",
       "      <th>mins_per_mile</th>\n",
       "    </tr>\n",
       "  </thead>\n",
       "  <tbody>\n",
       "    <tr>\n",
       "      <th>81</th>\n",
       "      <td>82</td>\n",
       "      <td>35.6</td>\n",
       "      <td>11125.0</td>\n",
       "      <td>3.92</td>\n",
       "      <td>D</td>\n",
       "      <td>22.120815</td>\n",
       "      <td>6912.7546</td>\n",
       "      <td>0.00868</td>\n",
       "    </tr>\n",
       "  </tbody>\n",
       "</table>\n",
       "</div>"
      ],
      "text/plain": [
       "    id  km4week  sp4week  MarathonTime CATEGORY  miles_per_week  \\\n",
       "81  82     35.6  11125.0          3.92        D       22.120815   \n",
       "\n",
       "    miles_per_hour  mins_per_mile  \n",
       "81       6912.7546        0.00868  "
      ]
     },
     "execution_count": 10,
     "metadata": {},
     "output_type": "execute_result"
    }
   ],
   "source": [
    "df.sort_values(\"mins_per_mile\")[:1]"
   ]
  },
  {
   "cell_type": "code",
   "execution_count": 11,
   "metadata": {},
   "outputs": [
    {
     "data": {
      "text/plain": [
       "id                        82\n",
       "km4week                 35.6\n",
       "sp4week                11125\n",
       "MarathonTime            3.92\n",
       "CATEGORY                   D\n",
       "miles_per_week       22.1208\n",
       "miles_per_hour       6.95936\n",
       "mins_per_mile     0.00867961\n",
       "Name: 81, dtype: object"
      ]
     },
     "execution_count": 11,
     "metadata": {},
     "output_type": "execute_result"
    }
   ],
   "source": [
    "df[\"miles_per_hour\"] = df[\"miles_per_hour\"].replace([6912.7546],6.959357)\n",
    "df.iloc[81]"
   ]
  },
  {
   "cell_type": "markdown",
   "metadata": {},
   "source": [
    "Only the miles per hour value will be used for modelling. Now the two outliers on the right of the scatter plot will be changed to the median of the correct category."
   ]
  },
  {
   "cell_type": "code",
   "execution_count": 13,
   "metadata": {},
   "outputs": [
    {
     "data": {
      "image/png": "[encoded data removed]",
      "text/plain": [
       "<Figure size 432x288 with 1 Axes>"
      ]
     },
     "metadata": {
      "needs_background": "light"
     },
     "output_type": "display_data"
    }
   ],
   "source": [
    "df.groupby(\"CATEGORY\")[\"miles_per_week\"].mean().plot(kind=\"bar\");\n",
    "plt.title(\"Mean Miles per Week by Category\")\n",
    "plt.xlabel(\"Categories\")\n",
    "plt.ylabel(\"Miles\");"
   ]
  },
  {
   "cell_type": "code",
   "execution_count": 14,
   "metadata": {},
   "outputs": [
    {
     "data": {
      "text/html": [
       "<div>\n",
       "<style scoped>\n",
       "    .dataframe tbody tr th:only-of-type {\n",
       "        vertical-align: middle;\n",
       "    }\n",
       "\n",
       "    .dataframe tbody tr th {\n",
       "        vertical-align: top;\n",
       "    }\n",
       "\n",
       "    .dataframe thead th {\n",
       "        text-align: right;\n",
       "    }\n",
       "</style>\n",
       "<table border=\"1\" class=\"dataframe\">\n",
       "  <thead>\n",
       "    <tr style=\"text-align: right;\">\n",
       "      <th></th>\n",
       "      <th>id</th>\n",
       "      <th>km4week</th>\n",
       "      <th>sp4week</th>\n",
       "      <th>MarathonTime</th>\n",
       "      <th>miles_per_week</th>\n",
       "      <th>miles_per_hour</th>\n",
       "      <th>mins_per_mile</th>\n",
       "    </tr>\n",
       "    <tr>\n",
       "      <th>CATEGORY</th>\n",
       "      <th></th>\n",
       "      <th></th>\n",
       "      <th></th>\n",
       "      <th></th>\n",
       "      <th></th>\n",
       "      <th></th>\n",
       "      <th></th>\n",
       "    </tr>\n",
       "  </thead>\n",
       "  <tbody>\n",
       "    <tr>\n",
       "      <th>A</th>\n",
       "      <td>11.0</td>\n",
       "      <td>84.2</td>\n",
       "      <td>13.365079</td>\n",
       "      <td>2.87</td>\n",
       "      <td>52.319455</td>\n",
       "      <td>8.304675</td>\n",
       "      <td>7.224846</td>\n",
       "    </tr>\n",
       "    <tr>\n",
       "      <th>B</th>\n",
       "      <td>35.5</td>\n",
       "      <td>63.0</td>\n",
       "      <td>12.217755</td>\n",
       "      <td>3.22</td>\n",
       "      <td>39.146386</td>\n",
       "      <td>7.591761</td>\n",
       "      <td>7.903351</td>\n",
       "    </tr>\n",
       "    <tr>\n",
       "      <th>C</th>\n",
       "      <td>60.0</td>\n",
       "      <td>50.3</td>\n",
       "      <td>11.665339</td>\n",
       "      <td>3.52</td>\n",
       "      <td>31.254971</td>\n",
       "      <td>7.248505</td>\n",
       "      <td>8.277568</td>\n",
       "    </tr>\n",
       "    <tr>\n",
       "      <th>D</th>\n",
       "      <td>79.0</td>\n",
       "      <td>38.1</td>\n",
       "      <td>11.200000</td>\n",
       "      <td>3.89</td>\n",
       "      <td>23.674243</td>\n",
       "      <td>6.959357</td>\n",
       "      <td>8.621486</td>\n",
       "    </tr>\n",
       "  </tbody>\n",
       "</table>\n",
       "</div>"
      ],
      "text/plain": [
       "            id  km4week    sp4week  MarathonTime  miles_per_week  \\\n",
       "CATEGORY                                                           \n",
       "A         11.0     84.2  13.365079          2.87       52.319455   \n",
       "B         35.5     63.0  12.217755          3.22       39.146386   \n",
       "C         60.0     50.3  11.665339          3.52       31.254971   \n",
       "D         79.0     38.1  11.200000          3.89       23.674243   \n",
       "\n",
       "          miles_per_hour  mins_per_mile  \n",
       "CATEGORY                                 \n",
       "A               8.304675       7.224846  \n",
       "B               7.591761       7.903351  \n",
       "C               7.248505       8.277568  \n",
       "D               6.959357       8.621486  "
      ]
     },
     "execution_count": 14,
     "metadata": {},
     "output_type": "execute_result"
    }
   ],
   "source": [
    "df.groupby(\"CATEGORY\").median()"
   ]
  },
  {
   "cell_type": "markdown",
   "metadata": {},
   "source": [
    "We can see category B and C don't vary too much in terms of speed and miles per week. This is because under 3 hours requires serious training, so the extra 30 mins needed from category B to C takes a lot more training and work than C to B. This can be from training plateau and only more training and time can help push through this. \n",
    "\n",
    "Category D has a median training time of 8.62 minutes per mile. This seems too quick considering the required time is 9 minutes per mile to reach a sub 4 hour marathon. I'm sure they would benefit more from slowing down the pace and increasing the weekly miles, this can be easier on the body and is a patient effective way to train."
   ]
  },
  {
   "cell_type": "code",
   "execution_count": 15,
   "metadata": {},
   "outputs": [
    {
     "data": {
      "text/html": [
       "<div>\n",
       "<style scoped>\n",
       "    .dataframe tbody tr th:only-of-type {\n",
       "        vertical-align: middle;\n",
       "    }\n",
       "\n",
       "    .dataframe tbody tr th {\n",
       "        vertical-align: top;\n",
       "    }\n",
       "\n",
       "    .dataframe thead tr th {\n",
       "        text-align: left;\n",
       "    }\n",
       "\n",
       "    .dataframe thead tr:last-of-type th {\n",
       "        text-align: right;\n",
       "    }\n",
       "</style>\n",
       "<table border=\"1\" class=\"dataframe\">\n",
       "  <thead>\n",
       "    <tr>\n",
       "      <th></th>\n",
       "      <th colspan=\"8\" halign=\"left\">miles_per_week</th>\n",
       "      <th colspan=\"8\" halign=\"left\">MarathonTime</th>\n",
       "    </tr>\n",
       "    <tr>\n",
       "      <th></th>\n",
       "      <th>count</th>\n",
       "      <th>mean</th>\n",
       "      <th>std</th>\n",
       "      <th>min</th>\n",
       "      <th>25%</th>\n",
       "      <th>50%</th>\n",
       "      <th>75%</th>\n",
       "      <th>max</th>\n",
       "      <th>count</th>\n",
       "      <th>mean</th>\n",
       "      <th>std</th>\n",
       "      <th>min</th>\n",
       "      <th>25%</th>\n",
       "      <th>50%</th>\n",
       "      <th>75%</th>\n",
       "      <th>max</th>\n",
       "    </tr>\n",
       "    <tr>\n",
       "      <th>CATEGORY</th>\n",
       "      <th></th>\n",
       "      <th></th>\n",
       "      <th></th>\n",
       "      <th></th>\n",
       "      <th></th>\n",
       "      <th></th>\n",
       "      <th></th>\n",
       "      <th></th>\n",
       "      <th></th>\n",
       "      <th></th>\n",
       "      <th></th>\n",
       "      <th></th>\n",
       "      <th></th>\n",
       "      <th></th>\n",
       "      <th></th>\n",
       "      <th></th>\n",
       "    </tr>\n",
       "  </thead>\n",
       "  <tbody>\n",
       "    <tr>\n",
       "      <th>A</th>\n",
       "      <td>21.0</td>\n",
       "      <td>52.233647</td>\n",
       "      <td>14.929773</td>\n",
       "      <td>26.221865</td>\n",
       "      <td>43.495984</td>\n",
       "      <td>52.319455</td>\n",
       "      <td>58.098207</td>\n",
       "      <td>85.438540</td>\n",
       "      <td>21.0</td>\n",
       "      <td>2.815714</td>\n",
       "      <td>0.142393</td>\n",
       "      <td>2.37</td>\n",
       "      <td>2.7800</td>\n",
       "      <td>2.87</td>\n",
       "      <td>2.90</td>\n",
       "      <td>2.99</td>\n",
       "    </tr>\n",
       "    <tr>\n",
       "      <th>B</th>\n",
       "      <td>28.0</td>\n",
       "      <td>40.828526</td>\n",
       "      <td>15.692708</td>\n",
       "      <td>14.788635</td>\n",
       "      <td>31.829740</td>\n",
       "      <td>39.146386</td>\n",
       "      <td>44.583384</td>\n",
       "      <td>80.529708</td>\n",
       "      <td>28.0</td>\n",
       "      <td>3.216071</td>\n",
       "      <td>0.092470</td>\n",
       "      <td>3.04</td>\n",
       "      <td>3.1475</td>\n",
       "      <td>3.22</td>\n",
       "      <td>3.29</td>\n",
       "      <td>3.36</td>\n",
       "    </tr>\n",
       "    <tr>\n",
       "      <th>C</th>\n",
       "      <td>21.0</td>\n",
       "      <td>32.394152</td>\n",
       "      <td>13.667149</td>\n",
       "      <td>12.862384</td>\n",
       "      <td>25.849042</td>\n",
       "      <td>31.254971</td>\n",
       "      <td>36.723038</td>\n",
       "      <td>75.620875</td>\n",
       "      <td>21.0</td>\n",
       "      <td>3.534286</td>\n",
       "      <td>0.080472</td>\n",
       "      <td>3.39</td>\n",
       "      <td>3.4700</td>\n",
       "      <td>3.52</td>\n",
       "      <td>3.59</td>\n",
       "      <td>3.67</td>\n",
       "    </tr>\n",
       "    <tr>\n",
       "      <th>D</th>\n",
       "      <td>17.0</td>\n",
       "      <td>26.474068</td>\n",
       "      <td>10.998610</td>\n",
       "      <td>11.122544</td>\n",
       "      <td>19.013959</td>\n",
       "      <td>23.674243</td>\n",
       "      <td>33.305496</td>\n",
       "      <td>54.059294</td>\n",
       "      <td>17.0</td>\n",
       "      <td>3.844706</td>\n",
       "      <td>0.101496</td>\n",
       "      <td>3.68</td>\n",
       "      <td>3.7600</td>\n",
       "      <td>3.89</td>\n",
       "      <td>3.93</td>\n",
       "      <td>3.98</td>\n",
       "    </tr>\n",
       "  </tbody>\n",
       "</table>\n",
       "</div>"
      ],
      "text/plain": [
       "         miles_per_week                                              \\\n",
       "                  count       mean        std        min        25%   \n",
       "CATEGORY                                                              \n",
       "A                  21.0  52.233647  14.929773  26.221865  43.495984   \n",
       "B                  28.0  40.828526  15.692708  14.788635  31.829740   \n",
       "C                  21.0  32.394152  13.667149  12.862384  25.849042   \n",
       "D                  17.0  26.474068  10.998610  11.122544  19.013959   \n",
       "\n",
       "                                          MarathonTime                      \\\n",
       "                50%        75%        max        count      mean       std   \n",
       "CATEGORY                                                                     \n",
       "A         52.319455  58.098207  85.438540         21.0  2.815714  0.142393   \n",
       "B         39.146386  44.583384  80.529708         28.0  3.216071  0.092470   \n",
       "C         31.254971  36.723038  75.620875         21.0  3.534286  0.080472   \n",
       "D         23.674243  33.305496  54.059294         17.0  3.844706  0.101496   \n",
       "\n",
       "                                          \n",
       "           min     25%   50%   75%   max  \n",
       "CATEGORY                                  \n",
       "A         2.37  2.7800  2.87  2.90  2.99  \n",
       "B         3.04  3.1475  3.22  3.29  3.36  \n",
       "C         3.39  3.4700  3.52  3.59  3.67  \n",
       "D         3.68  3.7600  3.89  3.93  3.98  "
      ]
     },
     "execution_count": 15,
     "metadata": {},
     "output_type": "execute_result"
    }
   ],
   "source": [
    "df.groupby(\"CATEGORY\")[[\"miles_per_week\", \"MarathonTime\"]].describe()"
   ]
  },
  {
   "cell_type": "code",
   "execution_count": 16,
   "metadata": {},
   "outputs": [],
   "source": [
    "group_a = df[df[\"CATEGORY\"] == \"A\"]\n",
    "group_b = df[df[\"CATEGORY\"] == \"B\"]"
   ]
  },
  {
   "cell_type": "code",
   "execution_count": 17,
   "metadata": {},
   "outputs": [
    {
     "data": {
      "image/png": "[encoded data removed]",
      "text/plain": [
       "<Figure size 432x288 with 1 Axes>"
      ]
     },
     "metadata": {
      "needs_background": "light"
     },
     "output_type": "display_data"
    }
   ],
   "source": [
    "group_a.hist(\"miles_per_week\");\n",
    "plt.title(\"Group A Miles per Week\")\n",
    "plt.ylabel(\"Count\")\n",
    "plt.xlabel(\"Miles\");"
   ]
  },
  {
   "cell_type": "code",
   "execution_count": 18,
   "metadata": {},
   "outputs": [
    {
     "data": {
      "image/png": "[encoded data removed]",
      "text/plain": [
       "<Figure size 432x288 with 1 Axes>"
      ]
     },
     "metadata": {
      "needs_background": "light"
     },
     "output_type": "display_data"
    }
   ],
   "source": [
    "sns.regplot(x=\"miles_per_week\", \n",
    "           y=\"mins_per_mile\", \n",
    "           data=group_a)\n",
    "plt.title(\"Group A Weekly Miles and Pace\")\n",
    "plt.ylabel(\"Minutes per Mile\")\n",
    "plt.xlabel(\"Miles\");"
   ]
  },
  {
   "cell_type": "markdown",
   "metadata": {},
   "source": [
    "We can see a from the plot above with a linear regression line, that the atheletes are slowing down their miles as the training volume increases."
   ]
  },
  {
   "cell_type": "code",
   "execution_count": 19,
   "metadata": {},
   "outputs": [],
   "source": [
    "group_a_5_least = group_a.sort_values(\"miles_per_week\")[:5]"
   ]
  },
  {
   "cell_type": "code",
   "execution_count": 20,
   "metadata": {},
   "outputs": [
    {
     "data": {
      "text/plain": [
       "miles_per_week    34.759505\n",
       "miles_per_hour     8.583065\n",
       "mins_per_mile      6.994929\n",
       "dtype: float64"
      ]
     },
     "execution_count": 20,
     "metadata": {},
     "output_type": "execute_result"
    }
   ],
   "source": [
    "group_a_5_least[[\"miles_per_week\", \"miles_per_hour\", \"mins_per_mile\"]].mean()"
   ]
  },
  {
   "cell_type": "markdown",
   "metadata": {},
   "source": [
    "This is the mean training data for 5 atheletes in group A with the least amount of miles over the 4 weeks prior to the race. So this could be taken as a rough minimum requirement to run a sub 3 hour, though from the previous data, it seems like around 50 miles per week would be needed. This 4 week data, most likely includes a \"taper\" week or two. In sport, that means cutting down training intensity and volume 1-2 weeks prior to the event. So without all of the athelete's training data, we can only predict what the 4 weeks prior need to look like. We will never be able to know the athelete's base fitness/training without this.\n",
    "\n",
    "To prevent injuries, I would prefer to run at around 8-8.25 mins per mile. So let's look at the difference between this and 6.99 mins per mile and try to see roughly how many miles would be needed to be made up in order to balance out the slower pace."
   ]
  },
  {
   "cell_type": "code",
   "execution_count": 21,
   "metadata": {},
   "outputs": [
    {
     "name": "stdout",
     "output_type": "stream",
     "text": [
      "I want to run 17.94% slower than the mean running times.\n"
     ]
    }
   ],
   "source": [
    "difference = 8.25 / 6.994929 * 100\n",
    "print(\"I want to run {}% slower than the mean running times.\".format(round(difference - 100, 2)))"
   ]
  },
  {
   "cell_type": "code",
   "execution_count": 22,
   "metadata": {},
   "outputs": [
    {
     "name": "stdout",
     "output_type": "stream",
     "text": [
      "Estimated miles needed to run per week: 41.0\n"
     ]
    }
   ],
   "source": [
    "miles_adjusted = 34.759505 * 1.1794\n",
    "print(\"Estimated miles needed to run per week: {}\".format(round(miles_adjusted, 2)))"
   ]
  },
  {
   "cell_type": "code",
   "execution_count": 23,
   "metadata": {},
   "outputs": [],
   "source": [
    "df.to_csv(\"cleaned_marathon.csv\")"
   ]
  }
 ],
 "metadata": {
  "kernelspec": {
   "display_name": "Python 3",
   "language": "python",
   "name": "python3"
  },
  "language_info": {
   "codemirror_mode": {
    "name": "ipython",
    "version": 3
   },
   "file_extension": ".py",
   "mimetype": "text/x-python",
   "name": "python",
   "nbconvert_exporter": "python",
   "pygments_lexer": "ipython3",
   "version": "3.8.5"
  }
 },
 "nbformat": 4,
 "nbformat_minor": 4
}
